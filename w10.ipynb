{
 "cells": [
  {
   "cell_type": "markdown",
   "metadata": {},
   "source": [
    "# Recommendation Systems"
   ]
  },
  {
   "cell_type": "code",
   "execution_count": 1,
   "metadata": {},
   "outputs": [],
   "source": [
    "import pandas as pd\n",
    "import scipy\n",
    "from sklearn.metrics.pairwise import pairwise_distances"
   ]
  },
  {
   "cell_type": "code",
   "execution_count": 2,
   "metadata": {},
   "outputs": [],
   "source": [
    "import itertools as it"
   ]
  },
  {
   "cell_type": "code",
   "execution_count": 3,
   "metadata": {},
   "outputs": [
    {
     "data": {
      "text/plain": [
       "[(1, 2), (1, 4), (2, 4)]"
      ]
     },
     "execution_count": 3,
     "metadata": {},
     "output_type": "execute_result"
    }
   ],
   "source": [
    "list(it.combinations([1, 2, 4], r = 2))"
   ]
  },
  {
   "cell_type": "code",
   "execution_count": null,
   "metadata": {},
   "outputs": [],
   "source": []
  },
  {
   "cell_type": "code",
   "execution_count": 4,
   "metadata": {},
   "outputs": [
    {
     "data": {
      "text/html": [
       "<div>\n",
       "<style scoped>\n",
       "    .dataframe tbody tr th:only-of-type {\n",
       "        vertical-align: middle;\n",
       "    }\n",
       "\n",
       "    .dataframe tbody tr th {\n",
       "        vertical-align: top;\n",
       "    }\n",
       "\n",
       "    .dataframe thead th {\n",
       "        text-align: right;\n",
       "    }\n",
       "</style>\n",
       "<table border=\"1\" class=\"dataframe\">\n",
       "  <thead>\n",
       "    <tr style=\"text-align: right;\">\n",
       "      <th></th>\n",
       "      <th>movieId</th>\n",
       "      <th>title</th>\n",
       "      <th>genres</th>\n",
       "    </tr>\n",
       "  </thead>\n",
       "  <tbody>\n",
       "    <tr>\n",
       "      <td>0</td>\n",
       "      <td>1</td>\n",
       "      <td>Toy Story (1995)</td>\n",
       "      <td>Adventure|Animation|Children|Comedy|Fantasy</td>\n",
       "    </tr>\n",
       "    <tr>\n",
       "      <td>1</td>\n",
       "      <td>2</td>\n",
       "      <td>Jumanji (1995)</td>\n",
       "      <td>Adventure|Children|Fantasy</td>\n",
       "    </tr>\n",
       "    <tr>\n",
       "      <td>2</td>\n",
       "      <td>3</td>\n",
       "      <td>Grumpier Old Men (1995)</td>\n",
       "      <td>Comedy|Romance</td>\n",
       "    </tr>\n",
       "    <tr>\n",
       "      <td>3</td>\n",
       "      <td>4</td>\n",
       "      <td>Waiting to Exhale (1995)</td>\n",
       "      <td>Comedy|Drama|Romance</td>\n",
       "    </tr>\n",
       "    <tr>\n",
       "      <td>4</td>\n",
       "      <td>5</td>\n",
       "      <td>Father of the Bride Part II (1995)</td>\n",
       "      <td>Comedy</td>\n",
       "    </tr>\n",
       "  </tbody>\n",
       "</table>\n",
       "</div>"
      ],
      "text/plain": [
       "   movieId                               title  \\\n",
       "0        1                    Toy Story (1995)   \n",
       "1        2                      Jumanji (1995)   \n",
       "2        3             Grumpier Old Men (1995)   \n",
       "3        4            Waiting to Exhale (1995)   \n",
       "4        5  Father of the Bride Part II (1995)   \n",
       "\n",
       "                                        genres  \n",
       "0  Adventure|Animation|Children|Comedy|Fantasy  \n",
       "1                   Adventure|Children|Fantasy  \n",
       "2                               Comedy|Romance  \n",
       "3                         Comedy|Drama|Romance  \n",
       "4                                       Comedy  "
      ]
     },
     "execution_count": 4,
     "metadata": {},
     "output_type": "execute_result"
    }
   ],
   "source": [
    "movies = pd.read_csv('data/movies.csv')\n",
    "movies.head()"
   ]
  },
  {
   "cell_type": "code",
   "execution_count": 5,
   "metadata": {},
   "outputs": [
    {
     "data": {
      "text/html": [
       "<div>\n",
       "<style scoped>\n",
       "    .dataframe tbody tr th:only-of-type {\n",
       "        vertical-align: middle;\n",
       "    }\n",
       "\n",
       "    .dataframe tbody tr th {\n",
       "        vertical-align: top;\n",
       "    }\n",
       "\n",
       "    .dataframe thead th {\n",
       "        text-align: right;\n",
       "    }\n",
       "</style>\n",
       "<table border=\"1\" class=\"dataframe\">\n",
       "  <thead>\n",
       "    <tr style=\"text-align: right;\">\n",
       "      <th></th>\n",
       "      <th>userId</th>\n",
       "      <th>movieId</th>\n",
       "      <th>rating</th>\n",
       "      <th>timestamp</th>\n",
       "    </tr>\n",
       "  </thead>\n",
       "  <tbody>\n",
       "    <tr>\n",
       "      <td>0</td>\n",
       "      <td>1</td>\n",
       "      <td>1</td>\n",
       "      <td>4.0</td>\n",
       "      <td>964982703</td>\n",
       "    </tr>\n",
       "    <tr>\n",
       "      <td>1</td>\n",
       "      <td>1</td>\n",
       "      <td>3</td>\n",
       "      <td>4.0</td>\n",
       "      <td>964981247</td>\n",
       "    </tr>\n",
       "    <tr>\n",
       "      <td>2</td>\n",
       "      <td>1</td>\n",
       "      <td>6</td>\n",
       "      <td>4.0</td>\n",
       "      <td>964982224</td>\n",
       "    </tr>\n",
       "    <tr>\n",
       "      <td>3</td>\n",
       "      <td>1</td>\n",
       "      <td>47</td>\n",
       "      <td>5.0</td>\n",
       "      <td>964983815</td>\n",
       "    </tr>\n",
       "    <tr>\n",
       "      <td>4</td>\n",
       "      <td>1</td>\n",
       "      <td>50</td>\n",
       "      <td>5.0</td>\n",
       "      <td>964982931</td>\n",
       "    </tr>\n",
       "  </tbody>\n",
       "</table>\n",
       "</div>"
      ],
      "text/plain": [
       "   userId  movieId  rating  timestamp\n",
       "0       1        1     4.0  964982703\n",
       "1       1        3     4.0  964981247\n",
       "2       1        6     4.0  964982224\n",
       "3       1       47     5.0  964983815\n",
       "4       1       50     5.0  964982931"
      ]
     },
     "execution_count": 5,
     "metadata": {},
     "output_type": "execute_result"
    }
   ],
   "source": [
    "ratings = pd.read_csv('data/ratings.csv')\n",
    "ratings.head()"
   ]
  },
  {
   "cell_type": "code",
   "execution_count": 6,
   "metadata": {},
   "outputs": [],
   "source": [
    "ratings.drop('timestamp', axis = 1, inplace = True)\n",
    "movies.drop('genres', axis = 1, inplace = True)"
   ]
  },
  {
   "cell_type": "code",
   "execution_count": 7,
   "metadata": {},
   "outputs": [
    {
     "data": {
      "text/html": [
       "<div>\n",
       "<style scoped>\n",
       "    .dataframe tbody tr th:only-of-type {\n",
       "        vertical-align: middle;\n",
       "    }\n",
       "\n",
       "    .dataframe tbody tr th {\n",
       "        vertical-align: top;\n",
       "    }\n",
       "\n",
       "    .dataframe thead th {\n",
       "        text-align: right;\n",
       "    }\n",
       "</style>\n",
       "<table border=\"1\" class=\"dataframe\">\n",
       "  <thead>\n",
       "    <tr style=\"text-align: right;\">\n",
       "      <th></th>\n",
       "      <th>userId</th>\n",
       "      <th>movieId</th>\n",
       "      <th>rating</th>\n",
       "    </tr>\n",
       "  </thead>\n",
       "  <tbody>\n",
       "    <tr>\n",
       "      <td>0</td>\n",
       "      <td>1</td>\n",
       "      <td>1</td>\n",
       "      <td>4.0</td>\n",
       "    </tr>\n",
       "    <tr>\n",
       "      <td>1</td>\n",
       "      <td>1</td>\n",
       "      <td>3</td>\n",
       "      <td>4.0</td>\n",
       "    </tr>\n",
       "    <tr>\n",
       "      <td>2</td>\n",
       "      <td>1</td>\n",
       "      <td>6</td>\n",
       "      <td>4.0</td>\n",
       "    </tr>\n",
       "    <tr>\n",
       "      <td>3</td>\n",
       "      <td>1</td>\n",
       "      <td>47</td>\n",
       "      <td>5.0</td>\n",
       "    </tr>\n",
       "    <tr>\n",
       "      <td>4</td>\n",
       "      <td>1</td>\n",
       "      <td>50</td>\n",
       "      <td>5.0</td>\n",
       "    </tr>\n",
       "  </tbody>\n",
       "</table>\n",
       "</div>"
      ],
      "text/plain": [
       "   userId  movieId  rating\n",
       "0       1        1     4.0\n",
       "1       1        3     4.0\n",
       "2       1        6     4.0\n",
       "3       1       47     5.0\n",
       "4       1       50     5.0"
      ]
     },
     "execution_count": 7,
     "metadata": {},
     "output_type": "execute_result"
    }
   ],
   "source": [
    "ratings.head()"
   ]
  },
  {
   "cell_type": "code",
   "execution_count": 8,
   "metadata": {},
   "outputs": [
    {
     "data": {
      "text/html": [
       "<div>\n",
       "<style scoped>\n",
       "    .dataframe tbody tr th:only-of-type {\n",
       "        vertical-align: middle;\n",
       "    }\n",
       "\n",
       "    .dataframe tbody tr th {\n",
       "        vertical-align: top;\n",
       "    }\n",
       "\n",
       "    .dataframe thead th {\n",
       "        text-align: right;\n",
       "    }\n",
       "</style>\n",
       "<table border=\"1\" class=\"dataframe\">\n",
       "  <thead>\n",
       "    <tr style=\"text-align: right;\">\n",
       "      <th></th>\n",
       "      <th>movieId</th>\n",
       "      <th>title</th>\n",
       "    </tr>\n",
       "  </thead>\n",
       "  <tbody>\n",
       "    <tr>\n",
       "      <td>0</td>\n",
       "      <td>1</td>\n",
       "      <td>Toy Story (1995)</td>\n",
       "    </tr>\n",
       "    <tr>\n",
       "      <td>1</td>\n",
       "      <td>2</td>\n",
       "      <td>Jumanji (1995)</td>\n",
       "    </tr>\n",
       "    <tr>\n",
       "      <td>2</td>\n",
       "      <td>3</td>\n",
       "      <td>Grumpier Old Men (1995)</td>\n",
       "    </tr>\n",
       "    <tr>\n",
       "      <td>3</td>\n",
       "      <td>4</td>\n",
       "      <td>Waiting to Exhale (1995)</td>\n",
       "    </tr>\n",
       "    <tr>\n",
       "      <td>4</td>\n",
       "      <td>5</td>\n",
       "      <td>Father of the Bride Part II (1995)</td>\n",
       "    </tr>\n",
       "  </tbody>\n",
       "</table>\n",
       "</div>"
      ],
      "text/plain": [
       "   movieId                               title\n",
       "0        1                    Toy Story (1995)\n",
       "1        2                      Jumanji (1995)\n",
       "2        3             Grumpier Old Men (1995)\n",
       "3        4            Waiting to Exhale (1995)\n",
       "4        5  Father of the Bride Part II (1995)"
      ]
     },
     "execution_count": 8,
     "metadata": {},
     "output_type": "execute_result"
    }
   ],
   "source": [
    "movies.head()"
   ]
  },
  {
   "cell_type": "code",
   "execution_count": 9,
   "metadata": {},
   "outputs": [],
   "source": [
    "df = pd.merge(ratings, movies, on = 'movieId')"
   ]
  },
  {
   "cell_type": "code",
   "execution_count": 10,
   "metadata": {},
   "outputs": [
    {
     "data": {
      "text/html": [
       "<div>\n",
       "<style scoped>\n",
       "    .dataframe tbody tr th:only-of-type {\n",
       "        vertical-align: middle;\n",
       "    }\n",
       "\n",
       "    .dataframe tbody tr th {\n",
       "        vertical-align: top;\n",
       "    }\n",
       "\n",
       "    .dataframe thead th {\n",
       "        text-align: right;\n",
       "    }\n",
       "</style>\n",
       "<table border=\"1\" class=\"dataframe\">\n",
       "  <thead>\n",
       "    <tr style=\"text-align: right;\">\n",
       "      <th></th>\n",
       "      <th>userId</th>\n",
       "      <th>movieId</th>\n",
       "      <th>rating</th>\n",
       "      <th>title</th>\n",
       "    </tr>\n",
       "  </thead>\n",
       "  <tbody>\n",
       "    <tr>\n",
       "      <td>0</td>\n",
       "      <td>1</td>\n",
       "      <td>1</td>\n",
       "      <td>4.0</td>\n",
       "      <td>Toy Story (1995)</td>\n",
       "    </tr>\n",
       "    <tr>\n",
       "      <td>1</td>\n",
       "      <td>5</td>\n",
       "      <td>1</td>\n",
       "      <td>4.0</td>\n",
       "      <td>Toy Story (1995)</td>\n",
       "    </tr>\n",
       "    <tr>\n",
       "      <td>2</td>\n",
       "      <td>7</td>\n",
       "      <td>1</td>\n",
       "      <td>4.5</td>\n",
       "      <td>Toy Story (1995)</td>\n",
       "    </tr>\n",
       "    <tr>\n",
       "      <td>3</td>\n",
       "      <td>15</td>\n",
       "      <td>1</td>\n",
       "      <td>2.5</td>\n",
       "      <td>Toy Story (1995)</td>\n",
       "    </tr>\n",
       "    <tr>\n",
       "      <td>4</td>\n",
       "      <td>17</td>\n",
       "      <td>1</td>\n",
       "      <td>4.5</td>\n",
       "      <td>Toy Story (1995)</td>\n",
       "    </tr>\n",
       "  </tbody>\n",
       "</table>\n",
       "</div>"
      ],
      "text/plain": [
       "   userId  movieId  rating             title\n",
       "0       1        1     4.0  Toy Story (1995)\n",
       "1       5        1     4.0  Toy Story (1995)\n",
       "2       7        1     4.5  Toy Story (1995)\n",
       "3      15        1     2.5  Toy Story (1995)\n",
       "4      17        1     4.5  Toy Story (1995)"
      ]
     },
     "execution_count": 10,
     "metadata": {},
     "output_type": "execute_result"
    }
   ],
   "source": [
    "df.head()"
   ]
  },
  {
   "cell_type": "code",
   "execution_count": 11,
   "metadata": {},
   "outputs": [],
   "source": [
    "df.to_csv('data/merged_movies.csv')"
   ]
  },
  {
   "cell_type": "code",
   "execution_count": 12,
   "metadata": {},
   "outputs": [],
   "source": [
    "#item based\n",
    "item_df = pd.pivot_table(df, index='title', columns = 'userId', values = 'rating')\n",
    "user_df = pd.pivot_table(df, index = 'userId', columns = 'title', values = 'rating')"
   ]
  },
  {
   "cell_type": "code",
   "execution_count": 13,
   "metadata": {},
   "outputs": [
    {
     "data": {
      "text/html": [
       "<div>\n",
       "<style scoped>\n",
       "    .dataframe tbody tr th:only-of-type {\n",
       "        vertical-align: middle;\n",
       "    }\n",
       "\n",
       "    .dataframe tbody tr th {\n",
       "        vertical-align: top;\n",
       "    }\n",
       "\n",
       "    .dataframe thead th {\n",
       "        text-align: right;\n",
       "    }\n",
       "</style>\n",
       "<table border=\"1\" class=\"dataframe\">\n",
       "  <thead>\n",
       "    <tr style=\"text-align: right;\">\n",
       "      <th>userId</th>\n",
       "      <th>1</th>\n",
       "      <th>2</th>\n",
       "      <th>3</th>\n",
       "      <th>4</th>\n",
       "      <th>5</th>\n",
       "      <th>6</th>\n",
       "      <th>7</th>\n",
       "      <th>8</th>\n",
       "      <th>9</th>\n",
       "      <th>10</th>\n",
       "      <th>...</th>\n",
       "      <th>601</th>\n",
       "      <th>602</th>\n",
       "      <th>603</th>\n",
       "      <th>604</th>\n",
       "      <th>605</th>\n",
       "      <th>606</th>\n",
       "      <th>607</th>\n",
       "      <th>608</th>\n",
       "      <th>609</th>\n",
       "      <th>610</th>\n",
       "    </tr>\n",
       "    <tr>\n",
       "      <th>title</th>\n",
       "      <th></th>\n",
       "      <th></th>\n",
       "      <th></th>\n",
       "      <th></th>\n",
       "      <th></th>\n",
       "      <th></th>\n",
       "      <th></th>\n",
       "      <th></th>\n",
       "      <th></th>\n",
       "      <th></th>\n",
       "      <th></th>\n",
       "      <th></th>\n",
       "      <th></th>\n",
       "      <th></th>\n",
       "      <th></th>\n",
       "      <th></th>\n",
       "      <th></th>\n",
       "      <th></th>\n",
       "      <th></th>\n",
       "      <th></th>\n",
       "      <th></th>\n",
       "    </tr>\n",
       "  </thead>\n",
       "  <tbody>\n",
       "    <tr>\n",
       "      <td>'71 (2014)</td>\n",
       "      <td>0.0</td>\n",
       "      <td>0.0</td>\n",
       "      <td>0.0</td>\n",
       "      <td>0.0</td>\n",
       "      <td>0.0</td>\n",
       "      <td>0.0</td>\n",
       "      <td>0.0</td>\n",
       "      <td>0.0</td>\n",
       "      <td>0.0</td>\n",
       "      <td>0.0</td>\n",
       "      <td>...</td>\n",
       "      <td>0.0</td>\n",
       "      <td>0.0</td>\n",
       "      <td>0.0</td>\n",
       "      <td>0.0</td>\n",
       "      <td>0.0</td>\n",
       "      <td>0.0</td>\n",
       "      <td>0.0</td>\n",
       "      <td>0.0</td>\n",
       "      <td>0.0</td>\n",
       "      <td>4.0</td>\n",
       "    </tr>\n",
       "    <tr>\n",
       "      <td>'Hellboy': The Seeds of Creation (2004)</td>\n",
       "      <td>0.0</td>\n",
       "      <td>0.0</td>\n",
       "      <td>0.0</td>\n",
       "      <td>0.0</td>\n",
       "      <td>0.0</td>\n",
       "      <td>0.0</td>\n",
       "      <td>0.0</td>\n",
       "      <td>0.0</td>\n",
       "      <td>0.0</td>\n",
       "      <td>0.0</td>\n",
       "      <td>...</td>\n",
       "      <td>0.0</td>\n",
       "      <td>0.0</td>\n",
       "      <td>0.0</td>\n",
       "      <td>0.0</td>\n",
       "      <td>0.0</td>\n",
       "      <td>0.0</td>\n",
       "      <td>0.0</td>\n",
       "      <td>0.0</td>\n",
       "      <td>0.0</td>\n",
       "      <td>0.0</td>\n",
       "    </tr>\n",
       "    <tr>\n",
       "      <td>'Round Midnight (1986)</td>\n",
       "      <td>0.0</td>\n",
       "      <td>0.0</td>\n",
       "      <td>0.0</td>\n",
       "      <td>0.0</td>\n",
       "      <td>0.0</td>\n",
       "      <td>0.0</td>\n",
       "      <td>0.0</td>\n",
       "      <td>0.0</td>\n",
       "      <td>0.0</td>\n",
       "      <td>0.0</td>\n",
       "      <td>...</td>\n",
       "      <td>0.0</td>\n",
       "      <td>0.0</td>\n",
       "      <td>0.0</td>\n",
       "      <td>0.0</td>\n",
       "      <td>0.0</td>\n",
       "      <td>0.0</td>\n",
       "      <td>0.0</td>\n",
       "      <td>0.0</td>\n",
       "      <td>0.0</td>\n",
       "      <td>0.0</td>\n",
       "    </tr>\n",
       "    <tr>\n",
       "      <td>'Salem's Lot (2004)</td>\n",
       "      <td>0.0</td>\n",
       "      <td>0.0</td>\n",
       "      <td>0.0</td>\n",
       "      <td>0.0</td>\n",
       "      <td>0.0</td>\n",
       "      <td>0.0</td>\n",
       "      <td>0.0</td>\n",
       "      <td>0.0</td>\n",
       "      <td>0.0</td>\n",
       "      <td>0.0</td>\n",
       "      <td>...</td>\n",
       "      <td>0.0</td>\n",
       "      <td>0.0</td>\n",
       "      <td>0.0</td>\n",
       "      <td>0.0</td>\n",
       "      <td>0.0</td>\n",
       "      <td>0.0</td>\n",
       "      <td>0.0</td>\n",
       "      <td>0.0</td>\n",
       "      <td>0.0</td>\n",
       "      <td>0.0</td>\n",
       "    </tr>\n",
       "    <tr>\n",
       "      <td>'Til There Was You (1997)</td>\n",
       "      <td>0.0</td>\n",
       "      <td>0.0</td>\n",
       "      <td>0.0</td>\n",
       "      <td>0.0</td>\n",
       "      <td>0.0</td>\n",
       "      <td>0.0</td>\n",
       "      <td>0.0</td>\n",
       "      <td>0.0</td>\n",
       "      <td>0.0</td>\n",
       "      <td>0.0</td>\n",
       "      <td>...</td>\n",
       "      <td>0.0</td>\n",
       "      <td>0.0</td>\n",
       "      <td>0.0</td>\n",
       "      <td>0.0</td>\n",
       "      <td>0.0</td>\n",
       "      <td>0.0</td>\n",
       "      <td>0.0</td>\n",
       "      <td>0.0</td>\n",
       "      <td>0.0</td>\n",
       "      <td>0.0</td>\n",
       "    </tr>\n",
       "  </tbody>\n",
       "</table>\n",
       "<p>5 rows × 610 columns</p>\n",
       "</div>"
      ],
      "text/plain": [
       "userId                                   1    2    3    4    5    6    7    \\\n",
       "title                                                                        \n",
       "'71 (2014)                               0.0  0.0  0.0  0.0  0.0  0.0  0.0   \n",
       "'Hellboy': The Seeds of Creation (2004)  0.0  0.0  0.0  0.0  0.0  0.0  0.0   \n",
       "'Round Midnight (1986)                   0.0  0.0  0.0  0.0  0.0  0.0  0.0   \n",
       "'Salem's Lot (2004)                      0.0  0.0  0.0  0.0  0.0  0.0  0.0   \n",
       "'Til There Was You (1997)                0.0  0.0  0.0  0.0  0.0  0.0  0.0   \n",
       "\n",
       "userId                                   8    9    10   ...  601  602  603  \\\n",
       "title                                                   ...                  \n",
       "'71 (2014)                               0.0  0.0  0.0  ...  0.0  0.0  0.0   \n",
       "'Hellboy': The Seeds of Creation (2004)  0.0  0.0  0.0  ...  0.0  0.0  0.0   \n",
       "'Round Midnight (1986)                   0.0  0.0  0.0  ...  0.0  0.0  0.0   \n",
       "'Salem's Lot (2004)                      0.0  0.0  0.0  ...  0.0  0.0  0.0   \n",
       "'Til There Was You (1997)                0.0  0.0  0.0  ...  0.0  0.0  0.0   \n",
       "\n",
       "userId                                   604  605  606  607  608  609  610  \n",
       "title                                                                       \n",
       "'71 (2014)                               0.0  0.0  0.0  0.0  0.0  0.0  4.0  \n",
       "'Hellboy': The Seeds of Creation (2004)  0.0  0.0  0.0  0.0  0.0  0.0  0.0  \n",
       "'Round Midnight (1986)                   0.0  0.0  0.0  0.0  0.0  0.0  0.0  \n",
       "'Salem's Lot (2004)                      0.0  0.0  0.0  0.0  0.0  0.0  0.0  \n",
       "'Til There Was You (1997)                0.0  0.0  0.0  0.0  0.0  0.0  0.0  \n",
       "\n",
       "[5 rows x 610 columns]"
      ]
     },
     "execution_count": 13,
     "metadata": {},
     "output_type": "execute_result"
    }
   ],
   "source": [
    "item_df.fillna(0).head()"
   ]
  },
  {
   "cell_type": "code",
   "execution_count": 14,
   "metadata": {},
   "outputs": [
    {
     "data": {
      "text/html": [
       "<div>\n",
       "<style scoped>\n",
       "    .dataframe tbody tr th:only-of-type {\n",
       "        vertical-align: middle;\n",
       "    }\n",
       "\n",
       "    .dataframe tbody tr th {\n",
       "        vertical-align: top;\n",
       "    }\n",
       "\n",
       "    .dataframe thead th {\n",
       "        text-align: right;\n",
       "    }\n",
       "</style>\n",
       "<table border=\"1\" class=\"dataframe\">\n",
       "  <thead>\n",
       "    <tr style=\"text-align: right;\">\n",
       "      <th>title</th>\n",
       "      <th>'71 (2014)</th>\n",
       "      <th>'Hellboy': The Seeds of Creation (2004)</th>\n",
       "      <th>'Round Midnight (1986)</th>\n",
       "      <th>'Salem's Lot (2004)</th>\n",
       "      <th>'Til There Was You (1997)</th>\n",
       "      <th>'Tis the Season for Love (2015)</th>\n",
       "      <th>'burbs, The (1989)</th>\n",
       "      <th>'night Mother (1986)</th>\n",
       "      <th>(500) Days of Summer (2009)</th>\n",
       "      <th>*batteries not included (1987)</th>\n",
       "      <th>...</th>\n",
       "      <th>Zulu (2013)</th>\n",
       "      <th>[REC] (2007)</th>\n",
       "      <th>[REC]² (2009)</th>\n",
       "      <th>[REC]³ 3 Génesis (2012)</th>\n",
       "      <th>anohana: The Flower We Saw That Day - The Movie (2013)</th>\n",
       "      <th>eXistenZ (1999)</th>\n",
       "      <th>xXx (2002)</th>\n",
       "      <th>xXx: State of the Union (2005)</th>\n",
       "      <th>¡Three Amigos! (1986)</th>\n",
       "      <th>À nous la liberté (Freedom for Us) (1931)</th>\n",
       "    </tr>\n",
       "    <tr>\n",
       "      <th>userId</th>\n",
       "      <th></th>\n",
       "      <th></th>\n",
       "      <th></th>\n",
       "      <th></th>\n",
       "      <th></th>\n",
       "      <th></th>\n",
       "      <th></th>\n",
       "      <th></th>\n",
       "      <th></th>\n",
       "      <th></th>\n",
       "      <th></th>\n",
       "      <th></th>\n",
       "      <th></th>\n",
       "      <th></th>\n",
       "      <th></th>\n",
       "      <th></th>\n",
       "      <th></th>\n",
       "      <th></th>\n",
       "      <th></th>\n",
       "      <th></th>\n",
       "      <th></th>\n",
       "    </tr>\n",
       "  </thead>\n",
       "  <tbody>\n",
       "    <tr>\n",
       "      <td>1</td>\n",
       "      <td>0.0</td>\n",
       "      <td>0.0</td>\n",
       "      <td>0.0</td>\n",
       "      <td>0.0</td>\n",
       "      <td>0.0</td>\n",
       "      <td>0.0</td>\n",
       "      <td>0.0</td>\n",
       "      <td>0.0</td>\n",
       "      <td>0.0</td>\n",
       "      <td>0.0</td>\n",
       "      <td>...</td>\n",
       "      <td>0.0</td>\n",
       "      <td>0.0</td>\n",
       "      <td>0.0</td>\n",
       "      <td>0.0</td>\n",
       "      <td>0.0</td>\n",
       "      <td>0.0</td>\n",
       "      <td>0.0</td>\n",
       "      <td>0.0</td>\n",
       "      <td>4.0</td>\n",
       "      <td>0.0</td>\n",
       "    </tr>\n",
       "    <tr>\n",
       "      <td>2</td>\n",
       "      <td>0.0</td>\n",
       "      <td>0.0</td>\n",
       "      <td>0.0</td>\n",
       "      <td>0.0</td>\n",
       "      <td>0.0</td>\n",
       "      <td>0.0</td>\n",
       "      <td>0.0</td>\n",
       "      <td>0.0</td>\n",
       "      <td>0.0</td>\n",
       "      <td>0.0</td>\n",
       "      <td>...</td>\n",
       "      <td>0.0</td>\n",
       "      <td>0.0</td>\n",
       "      <td>0.0</td>\n",
       "      <td>0.0</td>\n",
       "      <td>0.0</td>\n",
       "      <td>0.0</td>\n",
       "      <td>0.0</td>\n",
       "      <td>0.0</td>\n",
       "      <td>0.0</td>\n",
       "      <td>0.0</td>\n",
       "    </tr>\n",
       "    <tr>\n",
       "      <td>3</td>\n",
       "      <td>0.0</td>\n",
       "      <td>0.0</td>\n",
       "      <td>0.0</td>\n",
       "      <td>0.0</td>\n",
       "      <td>0.0</td>\n",
       "      <td>0.0</td>\n",
       "      <td>0.0</td>\n",
       "      <td>0.0</td>\n",
       "      <td>0.0</td>\n",
       "      <td>0.0</td>\n",
       "      <td>...</td>\n",
       "      <td>0.0</td>\n",
       "      <td>0.0</td>\n",
       "      <td>0.0</td>\n",
       "      <td>0.0</td>\n",
       "      <td>0.0</td>\n",
       "      <td>0.0</td>\n",
       "      <td>0.0</td>\n",
       "      <td>0.0</td>\n",
       "      <td>0.0</td>\n",
       "      <td>0.0</td>\n",
       "    </tr>\n",
       "    <tr>\n",
       "      <td>4</td>\n",
       "      <td>0.0</td>\n",
       "      <td>0.0</td>\n",
       "      <td>0.0</td>\n",
       "      <td>0.0</td>\n",
       "      <td>0.0</td>\n",
       "      <td>0.0</td>\n",
       "      <td>0.0</td>\n",
       "      <td>0.0</td>\n",
       "      <td>0.0</td>\n",
       "      <td>0.0</td>\n",
       "      <td>...</td>\n",
       "      <td>0.0</td>\n",
       "      <td>0.0</td>\n",
       "      <td>0.0</td>\n",
       "      <td>0.0</td>\n",
       "      <td>0.0</td>\n",
       "      <td>0.0</td>\n",
       "      <td>0.0</td>\n",
       "      <td>0.0</td>\n",
       "      <td>0.0</td>\n",
       "      <td>0.0</td>\n",
       "    </tr>\n",
       "    <tr>\n",
       "      <td>5</td>\n",
       "      <td>0.0</td>\n",
       "      <td>0.0</td>\n",
       "      <td>0.0</td>\n",
       "      <td>0.0</td>\n",
       "      <td>0.0</td>\n",
       "      <td>0.0</td>\n",
       "      <td>0.0</td>\n",
       "      <td>0.0</td>\n",
       "      <td>0.0</td>\n",
       "      <td>0.0</td>\n",
       "      <td>...</td>\n",
       "      <td>0.0</td>\n",
       "      <td>0.0</td>\n",
       "      <td>0.0</td>\n",
       "      <td>0.0</td>\n",
       "      <td>0.0</td>\n",
       "      <td>0.0</td>\n",
       "      <td>0.0</td>\n",
       "      <td>0.0</td>\n",
       "      <td>0.0</td>\n",
       "      <td>0.0</td>\n",
       "    </tr>\n",
       "  </tbody>\n",
       "</table>\n",
       "<p>5 rows × 9719 columns</p>\n",
       "</div>"
      ],
      "text/plain": [
       "title   '71 (2014)  'Hellboy': The Seeds of Creation (2004)  \\\n",
       "userId                                                        \n",
       "1              0.0                                      0.0   \n",
       "2              0.0                                      0.0   \n",
       "3              0.0                                      0.0   \n",
       "4              0.0                                      0.0   \n",
       "5              0.0                                      0.0   \n",
       "\n",
       "title   'Round Midnight (1986)  'Salem's Lot (2004)  \\\n",
       "userId                                                \n",
       "1                          0.0                  0.0   \n",
       "2                          0.0                  0.0   \n",
       "3                          0.0                  0.0   \n",
       "4                          0.0                  0.0   \n",
       "5                          0.0                  0.0   \n",
       "\n",
       "title   'Til There Was You (1997)  'Tis the Season for Love (2015)  \\\n",
       "userId                                                               \n",
       "1                             0.0                              0.0   \n",
       "2                             0.0                              0.0   \n",
       "3                             0.0                              0.0   \n",
       "4                             0.0                              0.0   \n",
       "5                             0.0                              0.0   \n",
       "\n",
       "title   'burbs, The (1989)  'night Mother (1986)  (500) Days of Summer (2009)  \\\n",
       "userId                                                                          \n",
       "1                      0.0                   0.0                          0.0   \n",
       "2                      0.0                   0.0                          0.0   \n",
       "3                      0.0                   0.0                          0.0   \n",
       "4                      0.0                   0.0                          0.0   \n",
       "5                      0.0                   0.0                          0.0   \n",
       "\n",
       "title   *batteries not included (1987)  ...  Zulu (2013)  [REC] (2007)  \\\n",
       "userId                                  ...                              \n",
       "1                                  0.0  ...          0.0           0.0   \n",
       "2                                  0.0  ...          0.0           0.0   \n",
       "3                                  0.0  ...          0.0           0.0   \n",
       "4                                  0.0  ...          0.0           0.0   \n",
       "5                                  0.0  ...          0.0           0.0   \n",
       "\n",
       "title   [REC]² (2009)  [REC]³ 3 Génesis (2012)  \\\n",
       "userId                                           \n",
       "1                 0.0                      0.0   \n",
       "2                 0.0                      0.0   \n",
       "3                 0.0                      0.0   \n",
       "4                 0.0                      0.0   \n",
       "5                 0.0                      0.0   \n",
       "\n",
       "title   anohana: The Flower We Saw That Day - The Movie (2013)  \\\n",
       "userId                                                           \n",
       "1                                                     0.0        \n",
       "2                                                     0.0        \n",
       "3                                                     0.0        \n",
       "4                                                     0.0        \n",
       "5                                                     0.0        \n",
       "\n",
       "title   eXistenZ (1999)  xXx (2002)  xXx: State of the Union (2005)  \\\n",
       "userId                                                                \n",
       "1                   0.0         0.0                             0.0   \n",
       "2                   0.0         0.0                             0.0   \n",
       "3                   0.0         0.0                             0.0   \n",
       "4                   0.0         0.0                             0.0   \n",
       "5                   0.0         0.0                             0.0   \n",
       "\n",
       "title   ¡Three Amigos! (1986)  À nous la liberté (Freedom for Us) (1931)  \n",
       "userId                                                                    \n",
       "1                         4.0                                        0.0  \n",
       "2                         0.0                                        0.0  \n",
       "3                         0.0                                        0.0  \n",
       "4                         0.0                                        0.0  \n",
       "5                         0.0                                        0.0  \n",
       "\n",
       "[5 rows x 9719 columns]"
      ]
     },
     "execution_count": 14,
     "metadata": {},
     "output_type": "execute_result"
    }
   ],
   "source": [
    "user_df.fillna(0).head()"
   ]
  },
  {
   "cell_type": "code",
   "execution_count": 15,
   "metadata": {},
   "outputs": [
    {
     "data": {
      "text/plain": [
       "(9719, 610)"
      ]
     },
     "execution_count": 15,
     "metadata": {},
     "output_type": "execute_result"
    }
   ],
   "source": [
    "item_df.shape"
   ]
  },
  {
   "cell_type": "code",
   "execution_count": 16,
   "metadata": {},
   "outputs": [],
   "source": [
    "sparse_items = scipy.sparse.csr_matrix(item_df.fillna(0))"
   ]
  },
  {
   "cell_type": "code",
   "execution_count": 17,
   "metadata": {},
   "outputs": [
    {
     "name": "stdout",
     "output_type": "stream",
     "text": [
      "  (0, 609)\t4.0\n",
      "  (1, 331)\t4.0\n",
      "  (2, 331)\t3.5\n",
      "  (2, 376)\t3.5\n",
      "  (3, 344)\t5.0\n",
      "  (4, 112)\t3.0\n",
      "  (4, 344)\t5.0\n",
      "  (5, 20)\t1.5\n",
      "  (6, 11)\t5.0\n",
      "  (6, 18)\t2.0\n",
      "  (6, 90)\t2.0\n",
      "  (6, 94)\t3.0\n",
      "  (6, 171)\t4.0\n",
      "  (6, 216)\t4.0\n",
      "  (6, 287)\t3.0\n",
      "  (6, 293)\t1.0\n",
      "  (6, 306)\t3.5\n",
      "  (6, 376)\t3.5\n",
      "  (6, 413)\t3.0\n",
      "  (6, 473)\t1.0\n",
      "  (6, 476)\t3.5\n",
      "  (6, 519)\t4.0\n",
      "  (6, 554)\t5.0\n",
      "  (6, 560)\t4.5\n",
      "  (6, 598)\t2.0\n",
      "  :\t:\n",
      "  (9717, 26)\t5.0\n",
      "  (9717, 41)\t5.0\n",
      "  (9717, 56)\t2.0\n",
      "  (9717, 67)\t4.0\n",
      "  (9717, 87)\t3.5\n",
      "  (9717, 140)\t3.5\n",
      "  (9717, 197)\t2.0\n",
      "  (9717, 214)\t2.5\n",
      "  (9717, 216)\t2.0\n",
      "  (9717, 220)\t3.5\n",
      "  (9717, 238)\t3.0\n",
      "  (9717, 281)\t4.0\n",
      "  (9717, 293)\t4.0\n",
      "  (9717, 306)\t2.5\n",
      "  (9717, 312)\t1.0\n",
      "  (9717, 413)\t3.0\n",
      "  (9717, 420)\t3.0\n",
      "  (9717, 447)\t3.0\n",
      "  (9717, 473)\t3.0\n",
      "  (9717, 476)\t3.5\n",
      "  (9717, 554)\t3.0\n",
      "  (9717, 560)\t4.0\n",
      "  (9717, 596)\t3.0\n",
      "  (9717, 598)\t2.5\n",
      "  (9718, 526)\t1.0\n"
     ]
    }
   ],
   "source": [
    "print(sparse_items)"
   ]
  },
  {
   "cell_type": "code",
   "execution_count": 18,
   "metadata": {},
   "outputs": [],
   "source": [
    "recommender = pairwise_distances(sparse_items, metric = 'cosine')"
   ]
  },
  {
   "cell_type": "code",
   "execution_count": 19,
   "metadata": {},
   "outputs": [],
   "source": [
    "rdf = pd.DataFrame(recommender, columns = item_df.index, index = item_df.index)"
   ]
  },
  {
   "cell_type": "code",
   "execution_count": 20,
   "metadata": {},
   "outputs": [
    {
     "data": {
      "text/html": [
       "<div>\n",
       "<style scoped>\n",
       "    .dataframe tbody tr th:only-of-type {\n",
       "        vertical-align: middle;\n",
       "    }\n",
       "\n",
       "    .dataframe tbody tr th {\n",
       "        vertical-align: top;\n",
       "    }\n",
       "\n",
       "    .dataframe thead th {\n",
       "        text-align: right;\n",
       "    }\n",
       "</style>\n",
       "<table border=\"1\" class=\"dataframe\">\n",
       "  <thead>\n",
       "    <tr style=\"text-align: right;\">\n",
       "      <th>title</th>\n",
       "      <th>'71 (2014)</th>\n",
       "      <th>'Hellboy': The Seeds of Creation (2004)</th>\n",
       "      <th>'Round Midnight (1986)</th>\n",
       "      <th>'Salem's Lot (2004)</th>\n",
       "      <th>'Til There Was You (1997)</th>\n",
       "      <th>'Tis the Season for Love (2015)</th>\n",
       "      <th>'burbs, The (1989)</th>\n",
       "      <th>'night Mother (1986)</th>\n",
       "      <th>(500) Days of Summer (2009)</th>\n",
       "      <th>*batteries not included (1987)</th>\n",
       "      <th>...</th>\n",
       "      <th>Zulu (2013)</th>\n",
       "      <th>[REC] (2007)</th>\n",
       "      <th>[REC]² (2009)</th>\n",
       "      <th>[REC]³ 3 Génesis (2012)</th>\n",
       "      <th>anohana: The Flower We Saw That Day - The Movie (2013)</th>\n",
       "      <th>eXistenZ (1999)</th>\n",
       "      <th>xXx (2002)</th>\n",
       "      <th>xXx: State of the Union (2005)</th>\n",
       "      <th>¡Three Amigos! (1986)</th>\n",
       "      <th>À nous la liberté (Freedom for Us) (1931)</th>\n",
       "    </tr>\n",
       "    <tr>\n",
       "      <th>title</th>\n",
       "      <th></th>\n",
       "      <th></th>\n",
       "      <th></th>\n",
       "      <th></th>\n",
       "      <th></th>\n",
       "      <th></th>\n",
       "      <th></th>\n",
       "      <th></th>\n",
       "      <th></th>\n",
       "      <th></th>\n",
       "      <th></th>\n",
       "      <th></th>\n",
       "      <th></th>\n",
       "      <th></th>\n",
       "      <th></th>\n",
       "      <th></th>\n",
       "      <th></th>\n",
       "      <th></th>\n",
       "      <th></th>\n",
       "      <th></th>\n",
       "      <th></th>\n",
       "    </tr>\n",
       "  </thead>\n",
       "  <tbody>\n",
       "    <tr>\n",
       "      <td>'71 (2014)</td>\n",
       "      <td>0.0</td>\n",
       "      <td>1.000000</td>\n",
       "      <td>1.000000</td>\n",
       "      <td>1.000000</td>\n",
       "      <td>1.000000</td>\n",
       "      <td>1.0</td>\n",
       "      <td>1.000000</td>\n",
       "      <td>1.0</td>\n",
       "      <td>0.858347</td>\n",
       "      <td>1.0</td>\n",
       "      <td>...</td>\n",
       "      <td>1.0</td>\n",
       "      <td>0.657945</td>\n",
       "      <td>0.456695</td>\n",
       "      <td>0.292893</td>\n",
       "      <td>1.0</td>\n",
       "      <td>1.0</td>\n",
       "      <td>0.860569</td>\n",
       "      <td>0.672673</td>\n",
       "      <td>1.0</td>\n",
       "      <td>1.0</td>\n",
       "    </tr>\n",
       "    <tr>\n",
       "      <td>'Hellboy': The Seeds of Creation (2004)</td>\n",
       "      <td>1.0</td>\n",
       "      <td>0.000000</td>\n",
       "      <td>0.292893</td>\n",
       "      <td>1.000000</td>\n",
       "      <td>1.000000</td>\n",
       "      <td>1.0</td>\n",
       "      <td>1.000000</td>\n",
       "      <td>1.0</td>\n",
       "      <td>1.000000</td>\n",
       "      <td>1.0</td>\n",
       "      <td>...</td>\n",
       "      <td>1.0</td>\n",
       "      <td>1.000000</td>\n",
       "      <td>1.000000</td>\n",
       "      <td>1.000000</td>\n",
       "      <td>1.0</td>\n",
       "      <td>1.0</td>\n",
       "      <td>1.000000</td>\n",
       "      <td>1.000000</td>\n",
       "      <td>1.0</td>\n",
       "      <td>1.0</td>\n",
       "    </tr>\n",
       "    <tr>\n",
       "      <td>'Round Midnight (1986)</td>\n",
       "      <td>1.0</td>\n",
       "      <td>0.292893</td>\n",
       "      <td>0.000000</td>\n",
       "      <td>1.000000</td>\n",
       "      <td>1.000000</td>\n",
       "      <td>1.0</td>\n",
       "      <td>0.823223</td>\n",
       "      <td>1.0</td>\n",
       "      <td>1.000000</td>\n",
       "      <td>1.0</td>\n",
       "      <td>...</td>\n",
       "      <td>1.0</td>\n",
       "      <td>1.000000</td>\n",
       "      <td>1.000000</td>\n",
       "      <td>1.000000</td>\n",
       "      <td>1.0</td>\n",
       "      <td>1.0</td>\n",
       "      <td>1.000000</td>\n",
       "      <td>1.000000</td>\n",
       "      <td>1.0</td>\n",
       "      <td>1.0</td>\n",
       "    </tr>\n",
       "    <tr>\n",
       "      <td>'Salem's Lot (2004)</td>\n",
       "      <td>1.0</td>\n",
       "      <td>1.000000</td>\n",
       "      <td>1.000000</td>\n",
       "      <td>0.000000</td>\n",
       "      <td>0.142507</td>\n",
       "      <td>1.0</td>\n",
       "      <td>1.000000</td>\n",
       "      <td>1.0</td>\n",
       "      <td>1.000000</td>\n",
       "      <td>1.0</td>\n",
       "      <td>...</td>\n",
       "      <td>1.0</td>\n",
       "      <td>1.000000</td>\n",
       "      <td>1.000000</td>\n",
       "      <td>1.000000</td>\n",
       "      <td>1.0</td>\n",
       "      <td>1.0</td>\n",
       "      <td>1.000000</td>\n",
       "      <td>1.000000</td>\n",
       "      <td>1.0</td>\n",
       "      <td>1.0</td>\n",
       "    </tr>\n",
       "    <tr>\n",
       "      <td>'Til There Was You (1997)</td>\n",
       "      <td>1.0</td>\n",
       "      <td>1.000000</td>\n",
       "      <td>1.000000</td>\n",
       "      <td>0.142507</td>\n",
       "      <td>0.000000</td>\n",
       "      <td>1.0</td>\n",
       "      <td>1.000000</td>\n",
       "      <td>1.0</td>\n",
       "      <td>1.000000</td>\n",
       "      <td>1.0</td>\n",
       "      <td>...</td>\n",
       "      <td>1.0</td>\n",
       "      <td>1.000000</td>\n",
       "      <td>1.000000</td>\n",
       "      <td>1.000000</td>\n",
       "      <td>1.0</td>\n",
       "      <td>1.0</td>\n",
       "      <td>1.000000</td>\n",
       "      <td>1.000000</td>\n",
       "      <td>1.0</td>\n",
       "      <td>1.0</td>\n",
       "    </tr>\n",
       "  </tbody>\n",
       "</table>\n",
       "<p>5 rows × 9719 columns</p>\n",
       "</div>"
      ],
      "text/plain": [
       "title                                    '71 (2014)  \\\n",
       "title                                                 \n",
       "'71 (2014)                                      0.0   \n",
       "'Hellboy': The Seeds of Creation (2004)         1.0   \n",
       "'Round Midnight (1986)                          1.0   \n",
       "'Salem's Lot (2004)                             1.0   \n",
       "'Til There Was You (1997)                       1.0   \n",
       "\n",
       "title                                    'Hellboy': The Seeds of Creation (2004)  \\\n",
       "title                                                                              \n",
       "'71 (2014)                                                              1.000000   \n",
       "'Hellboy': The Seeds of Creation (2004)                                 0.000000   \n",
       "'Round Midnight (1986)                                                  0.292893   \n",
       "'Salem's Lot (2004)                                                     1.000000   \n",
       "'Til There Was You (1997)                                               1.000000   \n",
       "\n",
       "title                                    'Round Midnight (1986)  \\\n",
       "title                                                             \n",
       "'71 (2014)                                             1.000000   \n",
       "'Hellboy': The Seeds of Creation (2004)                0.292893   \n",
       "'Round Midnight (1986)                                 0.000000   \n",
       "'Salem's Lot (2004)                                    1.000000   \n",
       "'Til There Was You (1997)                              1.000000   \n",
       "\n",
       "title                                    'Salem's Lot (2004)  \\\n",
       "title                                                          \n",
       "'71 (2014)                                          1.000000   \n",
       "'Hellboy': The Seeds of Creation (2004)             1.000000   \n",
       "'Round Midnight (1986)                              1.000000   \n",
       "'Salem's Lot (2004)                                 0.000000   \n",
       "'Til There Was You (1997)                           0.142507   \n",
       "\n",
       "title                                    'Til There Was You (1997)  \\\n",
       "title                                                                \n",
       "'71 (2014)                                                1.000000   \n",
       "'Hellboy': The Seeds of Creation (2004)                   1.000000   \n",
       "'Round Midnight (1986)                                    1.000000   \n",
       "'Salem's Lot (2004)                                       0.142507   \n",
       "'Til There Was You (1997)                                 0.000000   \n",
       "\n",
       "title                                    'Tis the Season for Love (2015)  \\\n",
       "title                                                                      \n",
       "'71 (2014)                                                           1.0   \n",
       "'Hellboy': The Seeds of Creation (2004)                              1.0   \n",
       "'Round Midnight (1986)                                               1.0   \n",
       "'Salem's Lot (2004)                                                  1.0   \n",
       "'Til There Was You (1997)                                            1.0   \n",
       "\n",
       "title                                    'burbs, The (1989)  \\\n",
       "title                                                         \n",
       "'71 (2014)                                         1.000000   \n",
       "'Hellboy': The Seeds of Creation (2004)            1.000000   \n",
       "'Round Midnight (1986)                             0.823223   \n",
       "'Salem's Lot (2004)                                1.000000   \n",
       "'Til There Was You (1997)                          1.000000   \n",
       "\n",
       "title                                    'night Mother (1986)  \\\n",
       "title                                                           \n",
       "'71 (2014)                                                1.0   \n",
       "'Hellboy': The Seeds of Creation (2004)                   1.0   \n",
       "'Round Midnight (1986)                                    1.0   \n",
       "'Salem's Lot (2004)                                       1.0   \n",
       "'Til There Was You (1997)                                 1.0   \n",
       "\n",
       "title                                    (500) Days of Summer (2009)  \\\n",
       "title                                                                  \n",
       "'71 (2014)                                                  0.858347   \n",
       "'Hellboy': The Seeds of Creation (2004)                     1.000000   \n",
       "'Round Midnight (1986)                                      1.000000   \n",
       "'Salem's Lot (2004)                                         1.000000   \n",
       "'Til There Was You (1997)                                   1.000000   \n",
       "\n",
       "title                                    *batteries not included (1987)  ...  \\\n",
       "title                                                                    ...   \n",
       "'71 (2014)                                                          1.0  ...   \n",
       "'Hellboy': The Seeds of Creation (2004)                             1.0  ...   \n",
       "'Round Midnight (1986)                                              1.0  ...   \n",
       "'Salem's Lot (2004)                                                 1.0  ...   \n",
       "'Til There Was You (1997)                                           1.0  ...   \n",
       "\n",
       "title                                    Zulu (2013)  [REC] (2007)  \\\n",
       "title                                                                \n",
       "'71 (2014)                                       1.0      0.657945   \n",
       "'Hellboy': The Seeds of Creation (2004)          1.0      1.000000   \n",
       "'Round Midnight (1986)                           1.0      1.000000   \n",
       "'Salem's Lot (2004)                              1.0      1.000000   \n",
       "'Til There Was You (1997)                        1.0      1.000000   \n",
       "\n",
       "title                                    [REC]² (2009)  \\\n",
       "title                                                    \n",
       "'71 (2014)                                    0.456695   \n",
       "'Hellboy': The Seeds of Creation (2004)       1.000000   \n",
       "'Round Midnight (1986)                        1.000000   \n",
       "'Salem's Lot (2004)                           1.000000   \n",
       "'Til There Was You (1997)                     1.000000   \n",
       "\n",
       "title                                    [REC]³ 3 Génesis (2012)  \\\n",
       "title                                                              \n",
       "'71 (2014)                                              0.292893   \n",
       "'Hellboy': The Seeds of Creation (2004)                 1.000000   \n",
       "'Round Midnight (1986)                                  1.000000   \n",
       "'Salem's Lot (2004)                                     1.000000   \n",
       "'Til There Was You (1997)                               1.000000   \n",
       "\n",
       "title                                    anohana: The Flower We Saw That Day - The Movie (2013)  \\\n",
       "title                                                                                             \n",
       "'71 (2014)                                                                             1.0        \n",
       "'Hellboy': The Seeds of Creation (2004)                                                1.0        \n",
       "'Round Midnight (1986)                                                                 1.0        \n",
       "'Salem's Lot (2004)                                                                    1.0        \n",
       "'Til There Was You (1997)                                                              1.0        \n",
       "\n",
       "title                                    eXistenZ (1999)  xXx (2002)  \\\n",
       "title                                                                  \n",
       "'71 (2014)                                           1.0    0.860569   \n",
       "'Hellboy': The Seeds of Creation (2004)              1.0    1.000000   \n",
       "'Round Midnight (1986)                               1.0    1.000000   \n",
       "'Salem's Lot (2004)                                  1.0    1.000000   \n",
       "'Til There Was You (1997)                            1.0    1.000000   \n",
       "\n",
       "title                                    xXx: State of the Union (2005)  \\\n",
       "title                                                                     \n",
       "'71 (2014)                                                     0.672673   \n",
       "'Hellboy': The Seeds of Creation (2004)                        1.000000   \n",
       "'Round Midnight (1986)                                         1.000000   \n",
       "'Salem's Lot (2004)                                            1.000000   \n",
       "'Til There Was You (1997)                                      1.000000   \n",
       "\n",
       "title                                    ¡Three Amigos! (1986)  \\\n",
       "title                                                            \n",
       "'71 (2014)                                                 1.0   \n",
       "'Hellboy': The Seeds of Creation (2004)                    1.0   \n",
       "'Round Midnight (1986)                                     1.0   \n",
       "'Salem's Lot (2004)                                        1.0   \n",
       "'Til There Was You (1997)                                  1.0   \n",
       "\n",
       "title                                    À nous la liberté (Freedom for Us) (1931)  \n",
       "title                                                                               \n",
       "'71 (2014)                                                                     1.0  \n",
       "'Hellboy': The Seeds of Creation (2004)                                        1.0  \n",
       "'Round Midnight (1986)                                                         1.0  \n",
       "'Salem's Lot (2004)                                                            1.0  \n",
       "'Til There Was You (1997)                                                      1.0  \n",
       "\n",
       "[5 rows x 9719 columns]"
      ]
     },
     "execution_count": 20,
     "metadata": {},
     "output_type": "execute_result"
    }
   ],
   "source": [
    "rdf.head()"
   ]
  },
  {
   "cell_type": "code",
   "execution_count": 21,
   "metadata": {},
   "outputs": [],
   "source": [
    "search = 'Die Hard'"
   ]
  },
  {
   "cell_type": "code",
   "execution_count": 22,
   "metadata": {},
   "outputs": [
    {
     "data": {
      "text/plain": [
       "138     Die Hard: With a Vengeance (1995)\n",
       "793                       Die Hard (1988)\n",
       "1053                    Die Hard 2 (1990)\n",
       "6518         Live Free or Die Hard (2007)\n",
       "8103       Good Day to Die Hard, A (2013)\n",
       "Name: title, dtype: object"
      ]
     },
     "execution_count": 22,
     "metadata": {},
     "output_type": "execute_result"
    }
   ],
   "source": [
    "movies.loc[movies['title'].str.contains(search), 'title']"
   ]
  },
  {
   "cell_type": "code",
   "execution_count": 23,
   "metadata": {},
   "outputs": [
    {
     "data": {
      "text/html": [
       "<div>\n",
       "<style scoped>\n",
       "    .dataframe tbody tr th:only-of-type {\n",
       "        vertical-align: middle;\n",
       "    }\n",
       "\n",
       "    .dataframe tbody tr th {\n",
       "        vertical-align: top;\n",
       "    }\n",
       "\n",
       "    .dataframe thead th {\n",
       "        text-align: right;\n",
       "    }\n",
       "</style>\n",
       "<table border=\"1\" class=\"dataframe\">\n",
       "  <thead>\n",
       "    <tr style=\"text-align: right;\">\n",
       "      <th>userId</th>\n",
       "      <th>1</th>\n",
       "      <th>2</th>\n",
       "      <th>3</th>\n",
       "      <th>4</th>\n",
       "      <th>5</th>\n",
       "      <th>6</th>\n",
       "      <th>7</th>\n",
       "      <th>8</th>\n",
       "      <th>9</th>\n",
       "      <th>10</th>\n",
       "      <th>...</th>\n",
       "      <th>601</th>\n",
       "      <th>602</th>\n",
       "      <th>603</th>\n",
       "      <th>604</th>\n",
       "      <th>605</th>\n",
       "      <th>606</th>\n",
       "      <th>607</th>\n",
       "      <th>608</th>\n",
       "      <th>609</th>\n",
       "      <th>610</th>\n",
       "    </tr>\n",
       "    <tr>\n",
       "      <th>title</th>\n",
       "      <th></th>\n",
       "      <th></th>\n",
       "      <th></th>\n",
       "      <th></th>\n",
       "      <th></th>\n",
       "      <th></th>\n",
       "      <th></th>\n",
       "      <th></th>\n",
       "      <th></th>\n",
       "      <th></th>\n",
       "      <th></th>\n",
       "      <th></th>\n",
       "      <th></th>\n",
       "      <th></th>\n",
       "      <th></th>\n",
       "      <th></th>\n",
       "      <th></th>\n",
       "      <th></th>\n",
       "      <th></th>\n",
       "      <th></th>\n",
       "      <th></th>\n",
       "    </tr>\n",
       "  </thead>\n",
       "  <tbody>\n",
       "    <tr>\n",
       "      <td>'71 (2014)</td>\n",
       "      <td>NaN</td>\n",
       "      <td>NaN</td>\n",
       "      <td>NaN</td>\n",
       "      <td>NaN</td>\n",
       "      <td>NaN</td>\n",
       "      <td>NaN</td>\n",
       "      <td>NaN</td>\n",
       "      <td>NaN</td>\n",
       "      <td>NaN</td>\n",
       "      <td>NaN</td>\n",
       "      <td>...</td>\n",
       "      <td>NaN</td>\n",
       "      <td>NaN</td>\n",
       "      <td>NaN</td>\n",
       "      <td>NaN</td>\n",
       "      <td>NaN</td>\n",
       "      <td>NaN</td>\n",
       "      <td>NaN</td>\n",
       "      <td>NaN</td>\n",
       "      <td>NaN</td>\n",
       "      <td>4.0</td>\n",
       "    </tr>\n",
       "    <tr>\n",
       "      <td>'Hellboy': The Seeds of Creation (2004)</td>\n",
       "      <td>NaN</td>\n",
       "      <td>NaN</td>\n",
       "      <td>NaN</td>\n",
       "      <td>NaN</td>\n",
       "      <td>NaN</td>\n",
       "      <td>NaN</td>\n",
       "      <td>NaN</td>\n",
       "      <td>NaN</td>\n",
       "      <td>NaN</td>\n",
       "      <td>NaN</td>\n",
       "      <td>...</td>\n",
       "      <td>NaN</td>\n",
       "      <td>NaN</td>\n",
       "      <td>NaN</td>\n",
       "      <td>NaN</td>\n",
       "      <td>NaN</td>\n",
       "      <td>NaN</td>\n",
       "      <td>NaN</td>\n",
       "      <td>NaN</td>\n",
       "      <td>NaN</td>\n",
       "      <td>NaN</td>\n",
       "    </tr>\n",
       "  </tbody>\n",
       "</table>\n",
       "<p>2 rows × 610 columns</p>\n",
       "</div>"
      ],
      "text/plain": [
       "userId                                   1    2    3    4    5    6    7    \\\n",
       "title                                                                        \n",
       "'71 (2014)                               NaN  NaN  NaN  NaN  NaN  NaN  NaN   \n",
       "'Hellboy': The Seeds of Creation (2004)  NaN  NaN  NaN  NaN  NaN  NaN  NaN   \n",
       "\n",
       "userId                                   8    9    10   ...  601  602  603  \\\n",
       "title                                                   ...                  \n",
       "'71 (2014)                               NaN  NaN  NaN  ...  NaN  NaN  NaN   \n",
       "'Hellboy': The Seeds of Creation (2004)  NaN  NaN  NaN  ...  NaN  NaN  NaN   \n",
       "\n",
       "userId                                   604  605  606  607  608  609  610  \n",
       "title                                                                       \n",
       "'71 (2014)                               NaN  NaN  NaN  NaN  NaN  NaN  4.0  \n",
       "'Hellboy': The Seeds of Creation (2004)  NaN  NaN  NaN  NaN  NaN  NaN  NaN  \n",
       "\n",
       "[2 rows x 610 columns]"
      ]
     },
     "execution_count": 23,
     "metadata": {},
     "output_type": "execute_result"
    }
   ],
   "source": [
    "item_df.head(2)"
   ]
  },
  {
   "cell_type": "code",
   "execution_count": 24,
   "metadata": {},
   "outputs": [
    {
     "data": {
      "text/plain": [
       "3.40625"
      ]
     },
     "execution_count": 24,
     "metadata": {},
     "output_type": "execute_result"
    }
   ],
   "source": [
    "item_df.loc['Live Free or Die Hard (2007)', :].mean()"
   ]
  },
  {
   "cell_type": "code",
   "execution_count": 25,
   "metadata": {},
   "outputs": [
    {
     "data": {
      "text/plain": [
       "32"
      ]
     },
     "execution_count": 25,
     "metadata": {},
     "output_type": "execute_result"
    }
   ],
   "source": [
    "item_df.T['Live Free or Die Hard (2007)'].count()"
   ]
  },
  {
   "cell_type": "code",
   "execution_count": 26,
   "metadata": {},
   "outputs": [],
   "source": [
    "def recommender(title, n):\n",
    "    return pd.DataFrame(rdf[title].sort_values()[1:n+1])"
   ]
  },
  {
   "cell_type": "code",
   "execution_count": 27,
   "metadata": {},
   "outputs": [
    {
     "data": {
      "text/html": [
       "<div>\n",
       "<style scoped>\n",
       "    .dataframe tbody tr th:only-of-type {\n",
       "        vertical-align: middle;\n",
       "    }\n",
       "\n",
       "    .dataframe tbody tr th {\n",
       "        vertical-align: top;\n",
       "    }\n",
       "\n",
       "    .dataframe thead th {\n",
       "        text-align: right;\n",
       "    }\n",
       "</style>\n",
       "<table border=\"1\" class=\"dataframe\">\n",
       "  <thead>\n",
       "    <tr style=\"text-align: right;\">\n",
       "      <th></th>\n",
       "      <th>Live Free or Die Hard (2007)</th>\n",
       "    </tr>\n",
       "    <tr>\n",
       "      <th>title</th>\n",
       "      <th></th>\n",
       "    </tr>\n",
       "  </thead>\n",
       "  <tbody>\n",
       "    <tr>\n",
       "      <td>Transformers (2007)</td>\n",
       "      <td>0.464709</td>\n",
       "    </tr>\n",
       "    <tr>\n",
       "      <td>King Kong (2005)</td>\n",
       "      <td>0.472095</td>\n",
       "    </tr>\n",
       "    <tr>\n",
       "      <td>Phone Booth (2002)</td>\n",
       "      <td>0.489301</td>\n",
       "    </tr>\n",
       "    <tr>\n",
       "      <td>Indiana Jones and the Kingdom of the Crystal Skull (2008)</td>\n",
       "      <td>0.492294</td>\n",
       "    </tr>\n",
       "    <tr>\n",
       "      <td>Day After Tomorrow, The (2004)</td>\n",
       "      <td>0.499540</td>\n",
       "    </tr>\n",
       "  </tbody>\n",
       "</table>\n",
       "</div>"
      ],
      "text/plain": [
       "                                                    Live Free or Die Hard (2007)\n",
       "title                                                                           \n",
       "Transformers (2007)                                                     0.464709\n",
       "King Kong (2005)                                                        0.472095\n",
       "Phone Booth (2002)                                                      0.489301\n",
       "Indiana Jones and the Kingdom of the Crystal Sk...                      0.492294\n",
       "Day After Tomorrow, The (2004)                                          0.499540"
      ]
     },
     "execution_count": 27,
     "metadata": {},
     "output_type": "execute_result"
    }
   ],
   "source": [
    "recommender('Live Free or Die Hard (2007)', 5)"
   ]
  },
  {
   "cell_type": "code",
   "execution_count": 28,
   "metadata": {},
   "outputs": [],
   "source": [
    "import numpy as np"
   ]
  },
  {
   "cell_type": "code",
   "execution_count": 29,
   "metadata": {},
   "outputs": [
    {
     "data": {
      "text/html": [
       "<div>\n",
       "<style scoped>\n",
       "    .dataframe tbody tr th:only-of-type {\n",
       "        vertical-align: middle;\n",
       "    }\n",
       "\n",
       "    .dataframe tbody tr th {\n",
       "        vertical-align: top;\n",
       "    }\n",
       "\n",
       "    .dataframe thead th {\n",
       "        text-align: right;\n",
       "    }\n",
       "</style>\n",
       "<table border=\"1\" class=\"dataframe\">\n",
       "  <thead>\n",
       "    <tr style=\"text-align: right;\">\n",
       "      <th></th>\n",
       "      <th>Royal Flash (1975)</th>\n",
       "    </tr>\n",
       "    <tr>\n",
       "      <th>title</th>\n",
       "      <th></th>\n",
       "    </tr>\n",
       "  </thead>\n",
       "  <tbody>\n",
       "    <tr>\n",
       "      <td>Massu Engira Maasilamani (2015)</td>\n",
       "      <td>0.0</td>\n",
       "    </tr>\n",
       "    <tr>\n",
       "      <td>Down Argentine Way (1940)</td>\n",
       "      <td>0.0</td>\n",
       "    </tr>\n",
       "    <tr>\n",
       "      <td>Golmaal (2006)</td>\n",
       "      <td>0.0</td>\n",
       "    </tr>\n",
       "    <tr>\n",
       "      <td>A Perfect Day (2015)</td>\n",
       "      <td>0.0</td>\n",
       "    </tr>\n",
       "    <tr>\n",
       "      <td>Hood of Horror (2006)</td>\n",
       "      <td>0.0</td>\n",
       "    </tr>\n",
       "    <tr>\n",
       "      <td>Siam Sunset (1999)</td>\n",
       "      <td>0.0</td>\n",
       "    </tr>\n",
       "    <tr>\n",
       "      <td>Honey, We Shrunk Ourselves (1997)</td>\n",
       "      <td>0.0</td>\n",
       "    </tr>\n",
       "  </tbody>\n",
       "</table>\n",
       "</div>"
      ],
      "text/plain": [
       "                                   Royal Flash (1975)\n",
       "title                                                \n",
       "Massu Engira Maasilamani (2015)                   0.0\n",
       "Down Argentine Way (1940)                         0.0\n",
       "Golmaal (2006)                                    0.0\n",
       "A Perfect Day (2015)                              0.0\n",
       "Hood of Horror (2006)                             0.0\n",
       "Siam Sunset (1999)                                0.0\n",
       "Honey, We Shrunk Ourselves (1997)                 0.0"
      ]
     },
     "execution_count": 29,
     "metadata": {},
     "output_type": "execute_result"
    }
   ],
   "source": [
    "recommender(rdf.columns[np.random.randint(0, rdf.shape[1])], 7)"
   ]
  },
  {
   "cell_type": "code",
   "execution_count": 30,
   "metadata": {},
   "outputs": [
    {
     "data": {
      "text/plain": [
       "title\n",
       "Die Hard: With a Vengeance (1995)    0.000000\n",
       "True Lies (1994)                     0.341742\n",
       "Speed (1994)                         0.365913\n",
       "Cliffhanger (1993)                   0.377932\n",
       "Ace Ventura: Pet Detective (1994)    0.381457\n",
       "GoldenEye (1995)                     0.384206\n",
       "Clear and Present Danger (1994)      0.399911\n",
       "Fugitive, The (1993)                 0.408297\n",
       "Batman (1989)                        0.413284\n",
       "Outbreak (1995)                      0.423053\n",
       "Name: Die Hard: With a Vengeance (1995), dtype: float64"
      ]
     },
     "execution_count": 30,
     "metadata": {},
     "output_type": "execute_result"
    }
   ],
   "source": [
    "rdf.loc[:, 'Die Hard: With a Vengeance (1995)'].nsmallest(10)"
   ]
  },
  {
   "cell_type": "code",
   "execution_count": 31,
   "metadata": {},
   "outputs": [
    {
     "name": "stdout",
     "output_type": "stream",
     "text": [
      "<class 'pandas.core.frame.DataFrame'>\n",
      "Int64Index: 100836 entries, 0 to 100835\n",
      "Data columns (total 4 columns):\n",
      "userId     100836 non-null int64\n",
      "movieId    100836 non-null int64\n",
      "rating     100836 non-null float64\n",
      "title      100836 non-null object\n",
      "dtypes: float64(1), int64(2), object(1)\n",
      "memory usage: 3.8+ MB\n"
     ]
    }
   ],
   "source": [
    "df.info()"
   ]
  },
  {
   "cell_type": "code",
   "execution_count": 32,
   "metadata": {},
   "outputs": [],
   "source": [
    "def recommender_getter(title, n = 5):\n",
    "        avg = item_df.loc[title, :].mean()\n",
    "        num_ratings = item_df.T[title].count()\n",
    "        recs = rdf[title].nsmallest(n)[1:n]\n",
    "        print(f'{title} had {num_ratings} ratings with an average rating of {avg}')\n",
    "        return recs"
   ]
  },
  {
   "cell_type": "code",
   "execution_count": 33,
   "metadata": {},
   "outputs": [
    {
     "name": "stdout",
     "output_type": "stream",
     "text": [
      "Grumpier Old Men (1995) had 52 ratings with an average rating of 3.2596153846153846\n"
     ]
    },
    {
     "data": {
      "text/plain": [
       "title\n",
       "Grumpy Old Men (1993)                  0.552013\n",
       "Striptease (1996)                      0.553216\n",
       "Nutty Professor, The (1996)            0.554918\n",
       "Twister (1996)                         0.563753\n",
       "Father of the Bride Part II (1995)     0.582198\n",
       "Broken Arrow (1996)                    0.589867\n",
       "Bio-Dome (1996)                        0.592596\n",
       "Truth About Cats & Dogs, The (1996)    0.596917\n",
       "Sabrina (1995)                         0.597169\n",
       "Name: Grumpier Old Men (1995), dtype: float64"
      ]
     },
     "execution_count": 33,
     "metadata": {},
     "output_type": "execute_result"
    }
   ],
   "source": [
    "recommender_getter('Grumpier Old Men (1995)', 10)"
   ]
  },
  {
   "cell_type": "code",
   "execution_count": 34,
   "metadata": {},
   "outputs": [],
   "source": [
    "#user based\n"
   ]
  },
  {
   "cell_type": "code",
   "execution_count": 35,
   "metadata": {},
   "outputs": [],
   "source": [
    "#make sparse matrix\n"
   ]
  },
  {
   "cell_type": "code",
   "execution_count": 36,
   "metadata": {},
   "outputs": [],
   "source": [
    "#compute pairwise\n"
   ]
  },
  {
   "cell_type": "markdown",
   "metadata": {},
   "source": [
    "#### Surprise"
   ]
  },
  {
   "cell_type": "code",
   "execution_count": 37,
   "metadata": {},
   "outputs": [],
   "source": [
    "from surprise import SVD, KNNBasic, NMF\n",
    "from surprise import Dataset\n",
    "from surprise.model_selection import cross_validate"
   ]
  },
  {
   "cell_type": "code",
   "execution_count": 38,
   "metadata": {},
   "outputs": [],
   "source": [
    "#!pip install surprise"
   ]
  },
  {
   "cell_type": "code",
   "execution_count": 39,
   "metadata": {},
   "outputs": [],
   "source": [
    "data = Dataset.load_builtin('ml-100k')"
   ]
  },
  {
   "cell_type": "code",
   "execution_count": 40,
   "metadata": {},
   "outputs": [],
   "source": [
    "svd = SVD()\n",
    "knn = KNNBasic()\n",
    "nmf = NMF()"
   ]
  },
  {
   "cell_type": "code",
   "execution_count": 41,
   "metadata": {},
   "outputs": [
    {
     "name": "stdout",
     "output_type": "stream",
     "text": [
      "Evaluating RMSE, MAE of algorithm SVD on 5 split(s).\n",
      "\n",
      "                  Fold 1  Fold 2  Fold 3  Fold 4  Fold 5  Mean    Std     \n",
      "RMSE (testset)    0.9348  0.9354  0.9385  0.9339  0.9360  0.9357  0.0016  \n",
      "MAE (testset)     0.7363  0.7357  0.7392  0.7383  0.7402  0.7379  0.0017  \n",
      "Fit time          3.30    3.21    3.12    3.20    3.27    3.22    0.06    \n",
      "Test time         0.12    0.08    0.12    0.08    0.11    0.10    0.02    \n"
     ]
    }
   ],
   "source": [
    "svd_results = cross_validate(svd, data, measures = ['RMSE', 'MAE'], cv = 5, verbose = True)"
   ]
  },
  {
   "cell_type": "code",
   "execution_count": 42,
   "metadata": {},
   "outputs": [
    {
     "name": "stdout",
     "output_type": "stream",
     "text": [
      "Computing the msd similarity matrix...\n",
      "Done computing similarity matrix.\n",
      "Computing the msd similarity matrix...\n",
      "Done computing similarity matrix.\n",
      "Computing the msd similarity matrix...\n",
      "Done computing similarity matrix.\n",
      "Computing the msd similarity matrix...\n",
      "Done computing similarity matrix.\n",
      "Computing the msd similarity matrix...\n",
      "Done computing similarity matrix.\n",
      "Evaluating RMSE, MAE of algorithm KNNBasic on 5 split(s).\n",
      "\n",
      "                  Fold 1  Fold 2  Fold 3  Fold 4  Fold 5  Mean    Std     \n",
      "RMSE (testset)    0.9836  0.9781  0.9762  0.9817  0.9741  0.9788  0.0035  \n",
      "MAE (testset)     0.7772  0.7712  0.7712  0.7770  0.7702  0.7733  0.0031  \n",
      "Fit time          0.18    0.24    0.22    0.22    0.20    0.21    0.02    \n",
      "Test time         2.06    2.14    2.17    2.13    2.19    2.14    0.04    \n"
     ]
    }
   ],
   "source": [
    "knn_results = cross_validate(knn, data, measures = ['RMSE', \"MAE\"], verbose = True)"
   ]
  },
  {
   "cell_type": "code",
   "execution_count": 43,
   "metadata": {},
   "outputs": [
    {
     "name": "stdout",
     "output_type": "stream",
     "text": [
      "Evaluating RMSE, MAE of algorithm NMF on 5 split(s).\n",
      "\n",
      "                  Fold 1  Fold 2  Fold 3  Fold 4  Fold 5  Mean    Std     \n",
      "RMSE (testset)    0.9602  0.9648  0.9682  0.9714  0.9610  0.9651  0.0042  \n",
      "MAE (testset)     0.7550  0.7546  0.7623  0.7634  0.7551  0.7581  0.0039  \n",
      "Fit time          3.27    3.06    3.15    3.15    3.31    3.19    0.09    \n",
      "Test time         0.07    0.11    0.06    0.12    0.07    0.08    0.02    \n"
     ]
    }
   ],
   "source": [
    "nmf_results =  cross_validate(nmf, data, measures = ['RMSE', \"MAE\"], verbose = True)"
   ]
  },
  {
   "cell_type": "code",
   "execution_count": 44,
   "metadata": {},
   "outputs": [],
   "source": [
    "nmf_df = pd.DataFrame(nmf_results)"
   ]
  },
  {
   "cell_type": "code",
   "execution_count": 45,
   "metadata": {},
   "outputs": [
    {
     "data": {
      "text/plain": [
       "{'test_rmse': array([0.96021678, 0.96478273, 0.96817549, 0.97140223, 0.96103478]),\n",
       " 'test_mae': array([0.75500154, 0.7545623 , 0.76226377, 0.76335845, 0.75508395]),\n",
       " 'fit_time': (3.269655227661133,\n",
       "  3.056359052658081,\n",
       "  3.146243095397949,\n",
       "  3.1508491039276123,\n",
       "  3.3125531673431396),\n",
       " 'test_time': (0.06643199920654297,\n",
       "  0.10946393013000488,\n",
       "  0.06289100646972656,\n",
       "  0.1152498722076416,\n",
       "  0.06631684303283691)}"
      ]
     },
     "execution_count": 45,
     "metadata": {},
     "output_type": "execute_result"
    }
   ],
   "source": [
    "nmf_results"
   ]
  },
  {
   "cell_type": "code",
   "execution_count": 46,
   "metadata": {},
   "outputs": [
    {
     "data": {
      "text/plain": [
       "<matplotlib.axes._subplots.AxesSubplot at 0x7fec99bb6750>"
      ]
     },
     "execution_count": 46,
     "metadata": {},
     "output_type": "execute_result"
    },
    {
     "data": {
      "image/png": "[encoded data removed]",
      "text/plain": [
       "<Figure size 432x288 with 1 Axes>"
      ]
     },
     "metadata": {
      "needs_background": "light"
     },
     "output_type": "display_data"
    }
   ],
   "source": [
    "%matplotlib inline\n",
    "import matplotlib.pyplot as plt\n",
    "nmf_df.iloc[:, :2].plot(kind = 'bar')"
   ]
  },
  {
   "cell_type": "code",
   "execution_count": 47,
   "metadata": {},
   "outputs": [],
   "source": [
    "from surprise.model_selection import train_test_split"
   ]
  },
  {
   "cell_type": "code",
   "execution_count": 48,
   "metadata": {},
   "outputs": [],
   "source": [
    "train, test = train_test_split(data, test_size = 0.25)"
   ]
  },
  {
   "cell_type": "code",
   "execution_count": 49,
   "metadata": {},
   "outputs": [
    {
     "data": {
      "text/plain": [
       "<surprise.prediction_algorithms.matrix_factorization.SVD at 0x7fecb88da390>"
      ]
     },
     "execution_count": 49,
     "metadata": {},
     "output_type": "execute_result"
    }
   ],
   "source": [
    "svd.fit(train)"
   ]
  },
  {
   "cell_type": "code",
   "execution_count": 50,
   "metadata": {},
   "outputs": [],
   "source": [
    "preds = svd.test(test)"
   ]
  },
  {
   "cell_type": "code",
   "execution_count": 51,
   "metadata": {},
   "outputs": [],
   "source": [
    "from surprise import accuracy"
   ]
  },
  {
   "cell_type": "code",
   "execution_count": 52,
   "metadata": {},
   "outputs": [
    {
     "name": "stdout",
     "output_type": "stream",
     "text": [
      "RMSE: 0.9375\n"
     ]
    },
    {
     "data": {
      "text/plain": [
       "0.9375079206941666"
      ]
     },
     "execution_count": 52,
     "metadata": {},
     "output_type": "execute_result"
    }
   ],
   "source": [
    "accuracy.rmse(preds)"
   ]
  },
  {
   "cell_type": "code",
   "execution_count": 53,
   "metadata": {},
   "outputs": [
    {
     "name": "stdout",
     "output_type": "stream",
     "text": [
      "user: 196        item: 302        r_ui = 4.00   est = 4.00   {'was_impossible': False}\n"
     ]
    }
   ],
   "source": [
    "uid = str(196)  # raw user id (as in the ratings file). They are **strings**!\n",
    "iid = str(302)  # raw item id (as in the ratings file). They are **strings**!\n",
    "\n",
    "# get a prediction for specific users and items.\n",
    "pred = svd.predict(uid, iid, r_ui=4, verbose=True)"
   ]
  },
  {
   "cell_type": "code",
   "execution_count": 54,
   "metadata": {},
   "outputs": [
    {
     "name": "stdout",
     "output_type": "stream",
     "text": [
      "user: 196        item: 302        r_ui = 4.00   est = 4.00   {'was_impossible': False}\n"
     ]
    }
   ],
   "source": [
    "print(pred)"
   ]
  },
  {
   "cell_type": "code",
   "execution_count": 55,
   "metadata": {},
   "outputs": [
    {
     "data": {
      "text/html": [
       "<div>\n",
       "<style scoped>\n",
       "    .dataframe tbody tr th:only-of-type {\n",
       "        vertical-align: middle;\n",
       "    }\n",
       "\n",
       "    .dataframe tbody tr th {\n",
       "        vertical-align: top;\n",
       "    }\n",
       "\n",
       "    .dataframe thead th {\n",
       "        text-align: right;\n",
       "    }\n",
       "</style>\n",
       "<table border=\"1\" class=\"dataframe\">\n",
       "  <thead>\n",
       "    <tr style=\"text-align: right;\">\n",
       "      <th></th>\n",
       "      <th>userId</th>\n",
       "      <th>movieId</th>\n",
       "      <th>rating</th>\n",
       "      <th>title</th>\n",
       "    </tr>\n",
       "  </thead>\n",
       "  <tbody>\n",
       "    <tr>\n",
       "      <td>0</td>\n",
       "      <td>1</td>\n",
       "      <td>1</td>\n",
       "      <td>4.0</td>\n",
       "      <td>Toy Story (1995)</td>\n",
       "    </tr>\n",
       "    <tr>\n",
       "      <td>1</td>\n",
       "      <td>5</td>\n",
       "      <td>1</td>\n",
       "      <td>4.0</td>\n",
       "      <td>Toy Story (1995)</td>\n",
       "    </tr>\n",
       "  </tbody>\n",
       "</table>\n",
       "</div>"
      ],
      "text/plain": [
       "   userId  movieId  rating             title\n",
       "0       1        1     4.0  Toy Story (1995)\n",
       "1       5        1     4.0  Toy Story (1995)"
      ]
     },
     "execution_count": 55,
     "metadata": {},
     "output_type": "execute_result"
    }
   ],
   "source": [
    "df.head(2)"
   ]
  },
  {
   "cell_type": "code",
   "execution_count": 56,
   "metadata": {},
   "outputs": [],
   "source": [
    "from surprise import Reader"
   ]
  },
  {
   "cell_type": "code",
   "execution_count": 57,
   "metadata": {},
   "outputs": [],
   "source": [
    "reader = Reader()"
   ]
  },
  {
   "cell_type": "code",
   "execution_count": 58,
   "metadata": {},
   "outputs": [],
   "source": [
    "data = Dataset.load_from_df(df.iloc[:, :-1], reader = reader)"
   ]
  },
  {
   "cell_type": "code",
   "execution_count": 59,
   "metadata": {},
   "outputs": [
    {
     "data": {
      "text/plain": [
       "{'test_rmse': array([0.87015743, 0.87044992, 0.87912451, 0.8716767 , 0.87677201]),\n",
       " 'test_mae': array([0.66956946, 0.66955971, 0.67533603, 0.66861582, 0.67254311]),\n",
       " 'fit_time': (3.399387836456299,\n",
       "  3.405518054962158,\n",
       "  3.357675075531006,\n",
       "  3.3121397495269775,\n",
       "  3.3287761211395264),\n",
       " 'test_time': (0.08300113677978516,\n",
       "  0.14494013786315918,\n",
       "  0.08025598526000977,\n",
       "  0.14380311965942383,\n",
       "  0.08043813705444336)}"
      ]
     },
     "execution_count": 59,
     "metadata": {},
     "output_type": "execute_result"
    }
   ],
   "source": [
    "cross_validate(svd, data)"
   ]
  },
  {
   "cell_type": "markdown",
   "metadata": {},
   "source": [
    "##### Topic Models"
   ]
  },
  {
   "cell_type": "code",
   "execution_count": 60,
   "metadata": {},
   "outputs": [],
   "source": [
    "seinfeld = pd.read_csv('data/scripts.csv.zip', compression = 'zip', index_col = 0)"
   ]
  },
  {
   "cell_type": "code",
   "execution_count": 61,
   "metadata": {},
   "outputs": [
    {
     "data": {
      "text/html": [
       "<div>\n",
       "<style scoped>\n",
       "    .dataframe tbody tr th:only-of-type {\n",
       "        vertical-align: middle;\n",
       "    }\n",
       "\n",
       "    .dataframe tbody tr th {\n",
       "        vertical-align: top;\n",
       "    }\n",
       "\n",
       "    .dataframe thead th {\n",
       "        text-align: right;\n",
       "    }\n",
       "</style>\n",
       "<table border=\"1\" class=\"dataframe\">\n",
       "  <thead>\n",
       "    <tr style=\"text-align: right;\">\n",
       "      <th></th>\n",
       "      <th>Character</th>\n",
       "      <th>Dialogue</th>\n",
       "      <th>EpisodeNo</th>\n",
       "      <th>SEID</th>\n",
       "      <th>Season</th>\n",
       "    </tr>\n",
       "  </thead>\n",
       "  <tbody>\n",
       "    <tr>\n",
       "      <td>0</td>\n",
       "      <td>JERRY</td>\n",
       "      <td>Do you know what this is all about? Do you kno...</td>\n",
       "      <td>1.0</td>\n",
       "      <td>S01E01</td>\n",
       "      <td>1.0</td>\n",
       "    </tr>\n",
       "    <tr>\n",
       "      <td>1</td>\n",
       "      <td>JERRY</td>\n",
       "      <td>(pointing at Georges shirt) See, to me, that b...</td>\n",
       "      <td>1.0</td>\n",
       "      <td>S01E01</td>\n",
       "      <td>1.0</td>\n",
       "    </tr>\n",
       "    <tr>\n",
       "      <td>2</td>\n",
       "      <td>GEORGE</td>\n",
       "      <td>Are you through?</td>\n",
       "      <td>1.0</td>\n",
       "      <td>S01E01</td>\n",
       "      <td>1.0</td>\n",
       "    </tr>\n",
       "    <tr>\n",
       "      <td>3</td>\n",
       "      <td>JERRY</td>\n",
       "      <td>You do of course try on, when you buy?</td>\n",
       "      <td>1.0</td>\n",
       "      <td>S01E01</td>\n",
       "      <td>1.0</td>\n",
       "    </tr>\n",
       "    <tr>\n",
       "      <td>4</td>\n",
       "      <td>GEORGE</td>\n",
       "      <td>Yes, it was purple, I liked it, I dont actuall...</td>\n",
       "      <td>1.0</td>\n",
       "      <td>S01E01</td>\n",
       "      <td>1.0</td>\n",
       "    </tr>\n",
       "  </tbody>\n",
       "</table>\n",
       "</div>"
      ],
      "text/plain": [
       "  Character                                           Dialogue  EpisodeNo  \\\n",
       "0     JERRY  Do you know what this is all about? Do you kno...        1.0   \n",
       "1     JERRY  (pointing at Georges shirt) See, to me, that b...        1.0   \n",
       "2    GEORGE                                   Are you through?        1.0   \n",
       "3     JERRY             You do of course try on, when you buy?        1.0   \n",
       "4    GEORGE  Yes, it was purple, I liked it, I dont actuall...        1.0   \n",
       "\n",
       "     SEID  Season  \n",
       "0  S01E01     1.0  \n",
       "1  S01E01     1.0  \n",
       "2  S01E01     1.0  \n",
       "3  S01E01     1.0  \n",
       "4  S01E01     1.0  "
      ]
     },
     "execution_count": 61,
     "metadata": {},
     "output_type": "execute_result"
    }
   ],
   "source": [
    "seinfeld.head()"
   ]
  },
  {
   "cell_type": "code",
   "execution_count": 62,
   "metadata": {},
   "outputs": [
    {
     "name": "stdout",
     "output_type": "stream",
     "text": [
      "<class 'pandas.core.frame.DataFrame'>\n",
      "Int64Index: 54616 entries, 0 to 54615\n",
      "Data columns (total 5 columns):\n",
      "Character    54616 non-null object\n",
      "Dialogue     54606 non-null object\n",
      "EpisodeNo    54616 non-null float64\n",
      "SEID         54616 non-null object\n",
      "Season       54616 non-null float64\n",
      "dtypes: float64(2), object(3)\n",
      "memory usage: 2.5+ MB\n"
     ]
    }
   ],
   "source": [
    "seinfeld.info()"
   ]
  },
  {
   "cell_type": "code",
   "execution_count": 63,
   "metadata": {},
   "outputs": [
    {
     "data": {
      "text/plain": [
       "Season\n",
       "1.0    1308\n",
       "2.0    3077\n",
       "3.0    6811\n",
       "4.0    7290\n",
       "5.0    7228\n",
       "6.0    6903\n",
       "7.0    7806\n",
       "8.0    6897\n",
       "9.0    7296\n",
       "Name: EpisodeNo, dtype: int64"
      ]
     },
     "execution_count": 63,
     "metadata": {},
     "output_type": "execute_result"
    }
   ],
   "source": [
    "seinfeld.groupby('Season')['EpisodeNo'].count()"
   ]
  },
  {
   "cell_type": "code",
   "execution_count": 64,
   "metadata": {},
   "outputs": [
    {
     "data": {
      "text/plain": [
       "'Do you know what this is all about? Do you know, why were here? To be out, this is out...and out is one of the single most enjoyable experiences of life. People...did you ever hear people talking about We should go out? This is what theyre talking about...this whole thing, were all out now, no one is home. Not one person here is home, were all out! There are people tryin to find us, they dont know where we are. (on an imaginary phone) Did you ring?, I cant find him. Where did he go? He didnt tell me where he was going. He must have gone out. You wanna go out you get ready, you pick out the clothes, right? You take the shower, you get all ready, get the cash, get your friends, the car, the spot, the reservation...Then youre standing around, whatta you do? You go We gotta be getting back. Once youre out, you wanna get back! You wanna go to sleep, you wanna get up, you wanna go out again tomorrow, right? Where ever you are in life, its my feeling, youve gotta go.'"
      ]
     },
     "execution_count": 64,
     "metadata": {},
     "output_type": "execute_result"
    }
   ],
   "source": [
    "seinfeld.loc[np.random.randint(1), 'Dialogue']"
   ]
  },
  {
   "cell_type": "markdown",
   "metadata": {},
   "source": [
    "##### Topic Models"
   ]
  },
  {
   "cell_type": "code",
   "execution_count": 65,
   "metadata": {},
   "outputs": [],
   "source": [
    "from sklearn.decomposition import LatentDirichletAllocation, NMF"
   ]
  },
  {
   "cell_type": "code",
   "execution_count": 66,
   "metadata": {},
   "outputs": [],
   "source": [
    "from sklearn.feature_extraction.text import CountVectorizer, TfidfVectorizer"
   ]
  },
  {
   "cell_type": "code",
   "execution_count": 67,
   "metadata": {},
   "outputs": [],
   "source": [
    "cvect = CountVectorizer(stop_words='english', max_features = 500, ngram_range=(1, 2))"
   ]
  },
  {
   "cell_type": "code",
   "execution_count": 68,
   "metadata": {},
   "outputs": [],
   "source": [
    "X = cvect.fit_transform(seinfeld.Dialogue.dropna())"
   ]
  },
  {
   "cell_type": "code",
   "execution_count": 69,
   "metadata": {},
   "outputs": [
    {
     "data": {
      "text/plain": [
       "(54606, 500)"
      ]
     },
     "execution_count": 69,
     "metadata": {},
     "output_type": "execute_result"
    }
   ],
   "source": [
    "X.shape"
   ]
  },
  {
   "cell_type": "code",
   "execution_count": 70,
   "metadata": {},
   "outputs": [],
   "source": [
    "dtm = pd.DataFrame(X.toarray(), columns = cvect.get_feature_names())"
   ]
  },
  {
   "cell_type": "code",
   "execution_count": 71,
   "metadata": {},
   "outputs": [
    {
     "data": {
      "text/html": [
       "<div>\n",
       "<style scoped>\n",
       "    .dataframe tbody tr th:only-of-type {\n",
       "        vertical-align: middle;\n",
       "    }\n",
       "\n",
       "    .dataframe tbody tr th {\n",
       "        vertical-align: top;\n",
       "    }\n",
       "\n",
       "    .dataframe thead th {\n",
       "        text-align: right;\n",
       "    }\n",
       "</style>\n",
       "<table border=\"1\" class=\"dataframe\">\n",
       "  <thead>\n",
       "    <tr style=\"text-align: right;\">\n",
       "      <th></th>\n",
       "      <th>able</th>\n",
       "      <th>actually</th>\n",
       "      <th>ago</th>\n",
       "      <th>ah</th>\n",
       "      <th>ahead</th>\n",
       "      <th>ahh</th>\n",
       "      <th>air</th>\n",
       "      <th>alright</th>\n",
       "      <th>anybody</th>\n",
       "      <th>anymore</th>\n",
       "      <th>...</th>\n",
       "      <th>yeah know</th>\n",
       "      <th>yeah right</th>\n",
       "      <th>yeah yeah</th>\n",
       "      <th>year</th>\n",
       "      <th>years</th>\n",
       "      <th>yes</th>\n",
       "      <th>yes yes</th>\n",
       "      <th>yesterday</th>\n",
       "      <th>york</th>\n",
       "      <th>youre</th>\n",
       "    </tr>\n",
       "  </thead>\n",
       "  <tbody>\n",
       "    <tr>\n",
       "      <td>0</td>\n",
       "      <td>0</td>\n",
       "      <td>0</td>\n",
       "      <td>0</td>\n",
       "      <td>0</td>\n",
       "      <td>0</td>\n",
       "      <td>0</td>\n",
       "      <td>0</td>\n",
       "      <td>0</td>\n",
       "      <td>0</td>\n",
       "      <td>0</td>\n",
       "      <td>...</td>\n",
       "      <td>0</td>\n",
       "      <td>0</td>\n",
       "      <td>0</td>\n",
       "      <td>0</td>\n",
       "      <td>0</td>\n",
       "      <td>0</td>\n",
       "      <td>0</td>\n",
       "      <td>0</td>\n",
       "      <td>0</td>\n",
       "      <td>2</td>\n",
       "    </tr>\n",
       "    <tr>\n",
       "      <td>1</td>\n",
       "      <td>0</td>\n",
       "      <td>0</td>\n",
       "      <td>0</td>\n",
       "      <td>0</td>\n",
       "      <td>0</td>\n",
       "      <td>0</td>\n",
       "      <td>0</td>\n",
       "      <td>0</td>\n",
       "      <td>0</td>\n",
       "      <td>0</td>\n",
       "      <td>...</td>\n",
       "      <td>0</td>\n",
       "      <td>0</td>\n",
       "      <td>0</td>\n",
       "      <td>0</td>\n",
       "      <td>0</td>\n",
       "      <td>0</td>\n",
       "      <td>0</td>\n",
       "      <td>0</td>\n",
       "      <td>0</td>\n",
       "      <td>0</td>\n",
       "    </tr>\n",
       "    <tr>\n",
       "      <td>2</td>\n",
       "      <td>0</td>\n",
       "      <td>0</td>\n",
       "      <td>0</td>\n",
       "      <td>0</td>\n",
       "      <td>0</td>\n",
       "      <td>0</td>\n",
       "      <td>0</td>\n",
       "      <td>0</td>\n",
       "      <td>0</td>\n",
       "      <td>0</td>\n",
       "      <td>...</td>\n",
       "      <td>0</td>\n",
       "      <td>0</td>\n",
       "      <td>0</td>\n",
       "      <td>0</td>\n",
       "      <td>0</td>\n",
       "      <td>0</td>\n",
       "      <td>0</td>\n",
       "      <td>0</td>\n",
       "      <td>0</td>\n",
       "      <td>0</td>\n",
       "    </tr>\n",
       "    <tr>\n",
       "      <td>3</td>\n",
       "      <td>0</td>\n",
       "      <td>0</td>\n",
       "      <td>0</td>\n",
       "      <td>0</td>\n",
       "      <td>0</td>\n",
       "      <td>0</td>\n",
       "      <td>0</td>\n",
       "      <td>0</td>\n",
       "      <td>0</td>\n",
       "      <td>0</td>\n",
       "      <td>...</td>\n",
       "      <td>0</td>\n",
       "      <td>0</td>\n",
       "      <td>0</td>\n",
       "      <td>0</td>\n",
       "      <td>0</td>\n",
       "      <td>0</td>\n",
       "      <td>0</td>\n",
       "      <td>0</td>\n",
       "      <td>0</td>\n",
       "      <td>0</td>\n",
       "    </tr>\n",
       "    <tr>\n",
       "      <td>4</td>\n",
       "      <td>0</td>\n",
       "      <td>1</td>\n",
       "      <td>0</td>\n",
       "      <td>0</td>\n",
       "      <td>0</td>\n",
       "      <td>0</td>\n",
       "      <td>0</td>\n",
       "      <td>0</td>\n",
       "      <td>0</td>\n",
       "      <td>0</td>\n",
       "      <td>...</td>\n",
       "      <td>0</td>\n",
       "      <td>0</td>\n",
       "      <td>0</td>\n",
       "      <td>0</td>\n",
       "      <td>0</td>\n",
       "      <td>1</td>\n",
       "      <td>0</td>\n",
       "      <td>0</td>\n",
       "      <td>0</td>\n",
       "      <td>0</td>\n",
       "    </tr>\n",
       "  </tbody>\n",
       "</table>\n",
       "<p>5 rows × 500 columns</p>\n",
       "</div>"
      ],
      "text/plain": [
       "   able  actually  ago  ah  ahead  ahh  air  alright  anybody  anymore  ...  \\\n",
       "0     0         0    0   0      0    0    0        0        0        0  ...   \n",
       "1     0         0    0   0      0    0    0        0        0        0  ...   \n",
       "2     0         0    0   0      0    0    0        0        0        0  ...   \n",
       "3     0         0    0   0      0    0    0        0        0        0  ...   \n",
       "4     0         1    0   0      0    0    0        0        0        0  ...   \n",
       "\n",
       "   yeah know  yeah right  yeah yeah  year  years  yes  yes yes  yesterday  \\\n",
       "0          0           0          0     0      0    0        0          0   \n",
       "1          0           0          0     0      0    0        0          0   \n",
       "2          0           0          0     0      0    0        0          0   \n",
       "3          0           0          0     0      0    0        0          0   \n",
       "4          0           0          0     0      0    1        0          0   \n",
       "\n",
       "   york  youre  \n",
       "0     0      2  \n",
       "1     0      0  \n",
       "2     0      0  \n",
       "3     0      0  \n",
       "4     0      0  \n",
       "\n",
       "[5 rows x 500 columns]"
      ]
     },
     "execution_count": 71,
     "metadata": {},
     "output_type": "execute_result"
    }
   ],
   "source": [
    "dtm.head()"
   ]
  },
  {
   "cell_type": "code",
   "execution_count": null,
   "metadata": {},
   "outputs": [],
   "source": []
  },
  {
   "cell_type": "code",
   "execution_count": 72,
   "metadata": {},
   "outputs": [],
   "source": [
    "lda = LatentDirichletAllocation(n_components = 5)"
   ]
  },
  {
   "cell_type": "code",
   "execution_count": 73,
   "metadata": {},
   "outputs": [
    {
     "data": {
      "text/plain": [
       "LatentDirichletAllocation(batch_size=128, doc_topic_prior=None,\n",
       "                          evaluate_every=-1, learning_decay=0.7,\n",
       "                          learning_method='batch', learning_offset=10.0,\n",
       "                          max_doc_update_iter=100, max_iter=10,\n",
       "                          mean_change_tol=0.001, n_components=5, n_jobs=None,\n",
       "                          perp_tol=0.1, random_state=None,\n",
       "                          topic_word_prior=None, total_samples=1000000.0,\n",
       "                          verbose=0)"
      ]
     },
     "execution_count": 73,
     "metadata": {},
     "output_type": "execute_result"
    }
   ],
   "source": [
    "lda.fit(X)"
   ]
  },
  {
   "cell_type": "code",
   "execution_count": 74,
   "metadata": {},
   "outputs": [
    {
     "name": "stderr",
     "output_type": "stream",
     "text": [
      "/Users/jacobkoehler/opt/anaconda3/lib/python3.7/site-packages/past/types/oldstr.py:5: DeprecationWarning: Using or importing the ABCs from 'collections' instead of from 'collections.abc' is deprecated, and in 3.8 it will stop working\n",
      "  from collections import Iterable\n",
      "/Users/jacobkoehler/opt/anaconda3/lib/python3.7/site-packages/past/builtins/misc.py:4: DeprecationWarning: Using or importing the ABCs from 'collections' instead of from 'collections.abc' is deprecated, and in 3.8 it will stop working\n",
      "  from collections import Mapping\n"
     ]
    }
   ],
   "source": [
    "import pyLDAvis"
   ]
  },
  {
   "cell_type": "code",
   "execution_count": 75,
   "metadata": {},
   "outputs": [],
   "source": [
    "#!pip install pyldavis"
   ]
  },
  {
   "cell_type": "code",
   "execution_count": 76,
   "metadata": {},
   "outputs": [],
   "source": [
    "import pyLDAvis.sklearn"
   ]
  },
  {
   "cell_type": "code",
   "execution_count": 77,
   "metadata": {},
   "outputs": [],
   "source": [
    "def print_top_words(model, feature_names, n_top_words):\n",
    "    for topic_idx, topic in enumerate(model.components_):\n",
    "        message = \"Topic #%d: \" % topic_idx\n",
    "        message += \" \".join([feature_names[i]\n",
    "                             for i in topic.argsort()[:-n_top_words - 1:-1]])\n",
    "        print(message)\n",
    "    print()"
   ]
  },
  {
   "cell_type": "code",
   "execution_count": 78,
   "metadata": {},
   "outputs": [
    {
     "name": "stdout",
     "output_type": "stream",
     "text": [
      "Topic #0: jerry got kramer just really okay know little car mr phone told time talk ve dont god apartment thought away\n",
      "Topic #1: oh think elaine uh want don say hi let alright hello great believe come did ll door stop way night\n",
      "Topic #2: know hey don good did yes just don know make maybe ah mean sure didn big ha happened like love ya\n",
      "Topic #3: yeah right going gonna ll tell come gotta huh said man need new getting yeah yeah uh course got fine problem\n",
      "Topic #4: like george look oh doing sorry wait guy ve just work does oh yeah boy kind coffee thing looks money feel\n",
      "\n"
     ]
    }
   ],
   "source": [
    "print_top_words(lda, cvect.get_feature_names(), 20)"
   ]
  },
  {
   "cell_type": "code",
   "execution_count": null,
   "metadata": {},
   "outputs": [],
   "source": []
  },
  {
   "cell_type": "code",
   "execution_count": null,
   "metadata": {},
   "outputs": [],
   "source": []
  },
  {
   "cell_type": "code",
   "execution_count": null,
   "metadata": {},
   "outputs": [],
   "source": []
  },
  {
   "cell_type": "code",
   "execution_count": null,
   "metadata": {},
   "outputs": [],
   "source": []
  },
  {
   "cell_type": "code",
   "execution_count": 79,
   "metadata": {},
   "outputs": [],
   "source": [
    "pyLDAvis.enable_notebook()"
   ]
  },
  {
   "cell_type": "code",
   "execution_count": 80,
   "metadata": {},
   "outputs": [
    {
     "name": "stderr",
     "output_type": "stream",
     "text": [
      "/Users/jacobkoehler/opt/anaconda3/lib/python3.7/site-packages/pyLDAvis/_prepare.py:257: FutureWarning: Sorting because non-concatenation axis is not aligned. A future version\n",
      "of pandas will change to not sort by default.\n",
      "\n",
      "To accept the future behavior, pass 'sort=False'.\n",
      "\n",
      "To retain the current behavior and silence the warning, pass 'sort=True'.\n",
      "\n",
      "  return pd.concat([default_term_info] + list(topic_dfs))\n"
     ]
    },
    {
     "data": {
      "text/html": [
       "\n",
       "<link rel=\"stylesheet\" type=\"text/css\" href=\"https://cdn.rawgit.com/bmabey/pyLDAvis/files/ldavis.v1.0.0.css\">\n",
       "\n",
       "\n",
       "<div id=\"ldavis_el960461406539018088484047019166\"></div>\n",
       "<script type=\"text/javascript\">\n",
       "\n",
       "var ldavis_el960461406539018088484047019166_data = {\"mdsDat\": {\"x\": [0.0013892802483406797, -0.2012837694675542, 0.33685931769147365, -0.15964976765163028, 0.022684939179370065], \"y\": [-0.13760216816275214, 0.2063325998135474, -0.004208123896840867, -0.24462595506829238, 0.18010364731433803], \"topics\": [1, 2, 3, 4, 5], \"cluster\": [1, 1, 1, 1, 1], \"Freq\": [22.64499731164117, 20.810624041576382, 19.642660173186442, 18.61885165437842, 18.28286681921759]}, \"tinfo\": {\"Category\": [\"Default\", \"Default\", \"Default\", \"Default\", \"Default\", \"Default\", \"Default\", \"Default\", \"Default\", \"Default\", \"Default\", \"Default\", \"Default\", \"Default\", \"Default\", \"Default\", \"Default\", \"Default\", \"Default\", \"Default\", \"Default\", \"Default\", \"Default\", \"Default\", \"Default\", \"Default\", \"Default\", \"Default\", \"Default\", \"Default\", \"Topic1\", \"Topic1\", \"Topic1\", \"Topic1\", \"Topic1\", \"Topic1\", \"Topic1\", \"Topic1\", \"Topic1\", \"Topic1\", \"Topic1\", \"Topic1\", \"Topic1\", \"Topic1\", \"Topic1\", \"Topic1\", \"Topic1\", \"Topic1\", \"Topic1\", \"Topic1\", \"Topic1\", \"Topic1\", \"Topic1\", \"Topic1\", \"Topic1\", \"Topic1\", \"Topic1\", \"Topic1\", \"Topic1\", \"Topic1\", \"Topic1\", \"Topic1\", \"Topic1\", \"Topic1\", \"Topic1\", \"Topic1\", \"Topic1\", \"Topic1\", \"Topic1\", \"Topic1\", \"Topic1\", \"Topic1\", \"Topic1\", \"Topic1\", \"Topic1\", \"Topic1\", \"Topic1\", \"Topic1\", \"Topic1\", \"Topic1\", \"Topic1\", \"Topic1\", \"Topic2\", \"Topic2\", \"Topic2\", \"Topic2\", \"Topic2\", \"Topic2\", \"Topic2\", \"Topic2\", \"Topic2\", \"Topic2\", \"Topic2\", \"Topic2\", \"Topic2\", \"Topic2\", \"Topic2\", \"Topic2\", \"Topic2\", \"Topic2\", \"Topic2\", \"Topic2\", \"Topic2\", \"Topic2\", \"Topic2\", \"Topic2\", \"Topic2\", \"Topic2\", \"Topic2\", \"Topic2\", \"Topic2\", \"Topic2\", \"Topic2\", \"Topic2\", \"Topic2\", \"Topic2\", \"Topic2\", \"Topic2\", \"Topic2\", \"Topic2\", \"Topic2\", \"Topic2\", \"Topic2\", \"Topic2\", \"Topic2\", \"Topic2\", \"Topic2\", \"Topic2\", \"Topic2\", \"Topic2\", \"Topic2\", \"Topic2\", \"Topic2\", \"Topic2\", \"Topic2\", \"Topic2\", \"Topic3\", \"Topic3\", \"Topic3\", \"Topic3\", \"Topic3\", \"Topic3\", \"Topic3\", \"Topic3\", \"Topic3\", \"Topic3\", \"Topic3\", \"Topic3\", \"Topic3\", \"Topic3\", \"Topic3\", \"Topic3\", \"Topic3\", \"Topic3\", \"Topic3\", \"Topic3\", \"Topic3\", \"Topic3\", \"Topic3\", \"Topic3\", \"Topic3\", \"Topic3\", \"Topic3\", \"Topic3\", \"Topic3\", \"Topic3\", \"Topic3\", \"Topic3\", \"Topic3\", \"Topic3\", \"Topic3\", \"Topic3\", \"Topic3\", \"Topic3\", \"Topic3\", \"Topic3\", \"Topic3\", \"Topic3\", \"Topic3\", \"Topic3\", \"Topic3\", \"Topic3\", \"Topic3\", \"Topic3\", \"Topic3\", \"Topic3\", \"Topic3\", \"Topic3\", \"Topic3\", \"Topic4\", \"Topic4\", \"Topic4\", \"Topic4\", \"Topic4\", \"Topic4\", \"Topic4\", \"Topic4\", \"Topic4\", \"Topic4\", \"Topic4\", \"Topic4\", \"Topic4\", \"Topic4\", \"Topic4\", \"Topic4\", \"Topic4\", \"Topic4\", \"Topic4\", \"Topic4\", \"Topic4\", \"Topic4\", \"Topic4\", \"Topic4\", \"Topic4\", \"Topic4\", \"Topic4\", \"Topic4\", \"Topic4\", \"Topic4\", \"Topic4\", \"Topic4\", \"Topic4\", \"Topic4\", \"Topic4\", \"Topic4\", \"Topic4\", \"Topic4\", \"Topic4\", \"Topic4\", \"Topic4\", \"Topic4\", \"Topic4\", \"Topic4\", \"Topic4\", \"Topic4\", \"Topic4\", \"Topic4\", \"Topic4\", \"Topic4\", \"Topic4\", \"Topic5\", \"Topic5\", \"Topic5\", \"Topic5\", \"Topic5\", \"Topic5\", \"Topic5\", \"Topic5\", \"Topic5\", \"Topic5\", \"Topic5\", \"Topic5\", \"Topic5\", \"Topic5\", \"Topic5\", \"Topic5\", \"Topic5\", \"Topic5\", \"Topic5\", \"Topic5\", \"Topic5\", \"Topic5\", \"Topic5\", \"Topic5\", \"Topic5\", \"Topic5\", \"Topic5\", \"Topic5\", \"Topic5\", \"Topic5\", \"Topic5\", \"Topic5\", \"Topic5\", \"Topic5\", \"Topic5\", \"Topic5\", \"Topic5\", \"Topic5\", \"Topic5\", \"Topic5\", \"Topic5\", \"Topic5\", \"Topic5\", \"Topic5\", \"Topic5\", \"Topic5\", \"Topic5\"], \"Freq\": [3814.0, 4180.0, 4182.0, 2880.0, 2348.0, 2378.0, 2882.0, 2154.0, 3110.0, 1864.0, 1535.0, 1417.0, 1557.0, 1523.0, 1325.0, 1797.0, 1348.0, 2069.0, 1008.0, 1087.0, 1443.0, 1322.0, 1433.0, 821.0, 1879.0, 747.0, 735.0, 657.0, 710.0, 684.0, 699.9115578975164, 504.3472980023127, 412.93274833994695, 350.05449346766994, 498.03410898489795, 1518.3093436021304, 202.6396693693785, 170.20613101971205, 2866.9000475821067, 251.38147239242622, 193.65639439426613, 155.46641737697325, 287.4192001689058, 214.97572177037844, 133.83904235555735, 445.4805326684882, 122.05293105246338, 118.10480971902098, 110.26213791018134, 107.31062980476041, 546.0784583966708, 102.3994859542649, 102.39658038544941, 100.4321701313107, 96.50468538915514, 95.51382422613646, 93.55174301919352, 90.60351585312742, 88.63688338576782, 86.6732887026375, 385.3450066356427, 464.35523601121065, 169.28528998839133, 351.73471455051566, 170.13334565985699, 207.3859748274778, 122.76391567254034, 375.12726713687704, 1694.349717320683, 1146.8940521160498, 362.4777448997335, 228.96276744177928, 628.4525623840909, 331.20595805622423, 1505.9599621602342, 250.09052045223547, 463.87906433603297, 425.63416503249505, 682.2164069113362, 268.09354272875527, 294.10302704174364, 233.44827432353108, 2376.1419746938204, 683.9101996775721, 429.230358990311, 609.1160197748939, 406.6966165263874, 1006.5834251491553, 391.76416167555334, 243.11934055682727, 251.7463368478038, 176.5100095073827, 197.92507650583042, 168.50104556927417, 647.6529132786787, 135.3556468843716, 136.2282736754721, 114.79848930803105, 124.51394764650351, 288.8723240948702, 158.50360412616928, 101.08107211264175, 94.2240172006754, 92.26965008846149, 130.14311997849265, 91.28761379318824, 85.4104107452913, 83.44639510995886, 83.4447011462604, 82.46740699009673, 78.55445830565209, 127.99568795125347, 552.6652746138465, 601.3087973727884, 345.24122657859664, 109.56867997662197, 176.5614763449872, 129.25777535465764, 250.1513381596629, 106.43203616669996, 3497.0612035440977, 1142.5360501875327, 485.6826939619484, 202.2458798615858, 244.84914950610136, 2138.3224309093216, 1077.8536983904976, 340.7207773191544, 258.6862508046458, 561.9318720085688, 374.1776559752119, 521.8771450735837, 693.0059454762068, 249.0033730721438, 406.09649379709106, 215.0564976513935, 1534.4512109545442, 2346.297956748256, 596.5356909668748, 320.1606927716958, 283.4823768724293, 253.7610860502, 216.13324201931397, 209.2003761049327, 182.4574652493308, 191.3304378446497, 155.71984606108867, 218.78178667790507, 136.90068991083166, 142.76857109974685, 152.6156623270512, 255.91625391010675, 113.12517906822838, 104.21062021290352, 103.20657879072732, 93.3082129685009, 89.3465516598439, 115.83215102194035, 84.39657229079205, 84.39657229079104, 83.40045539531656, 80.42965656675885, 130.44073330306117, 80.41827573114705, 78.45344819632923, 79.389511451781, 3704.047697458129, 623.3986400266278, 114.54937992846973, 1295.8157098951067, 1034.2869248295042, 525.3812799973448, 94.95535689671013, 126.88140577249703, 552.3879719924743, 176.7118420505819, 261.5133756343847, 539.3454239306991, 352.0180784552814, 1200.9764650227416, 782.9317915142288, 162.48193682172675, 329.62596420350906, 209.69847388489484, 169.16086127277654, 184.36846724880652, 309.69689534851534, 242.7375293137702, 263.152070674543, 746.1959711557596, 2151.7428482341447, 583.3995093368817, 571.0384702540882, 371.1404524583636, 408.1215974311208, 346.41015709750457, 385.35350891714864, 263.98051464761664, 218.63783746112006, 295.61269759087133, 193.91489381587496, 187.73133547926403, 167.12567661445695, 159.90665397723293, 223.33995101304185, 143.42286921644882, 133.12300932659466, 413.69233924177115, 133.11943890590558, 132.07312020030392, 125.90637052753615, 122.81899061504292, 119.72391479390531, 121.75198886618384, 113.54725630608344, 123.75017530806946, 106.33342813484045, 107.35325935711975, 104.27281390792363, 217.4357773462134, 1290.0371728302525, 184.88769213544825, 153.94468565790177, 363.99617970849084, 2473.775299471059, 307.5525702614427, 263.19048621039843, 311.40390161670746, 251.86234257631702, 205.53823286557508, 562.2452754943481, 235.79237961229478, 528.568461363523, 885.868665856389, 249.1419800824362, 313.69461988536506, 424.8681793358802, 239.91642398587058, 266.84010565590154, 283.604066392436, 1416.3304929865292, 734.9765921349099, 656.3488853478432, 820.3467117823877, 332.80576106795684, 306.5891049328522, 282.4183494909262, 257.2201166244447, 209.80598754034142, 169.52258827611416, 216.60503769671044, 245.63911350684015, 149.36823677906236, 130.21880482511028, 131.21136110095674, 126.0910198263527, 111.07143195936717, 106.03132457675386, 105.02058156728417, 103.008932228275, 99.97672285919607, 97.96649628768769, 91.92068321342467, 86.874732543055, 279.6953978746381, 108.02012284738974, 425.4487449643543, 264.9356212003146, 163.3553065823407, 681.4429175109897, 1476.2323597293782, 1722.2504202386954, 3290.684707863351, 1442.5743226664176, 200.19549532261166, 437.3373432675432, 724.5355818016325, 236.2744558226997, 347.47364523825536, 312.9300905266781, 968.9348083239352, 315.7998112825892, 407.41204794426125, 364.3354256781285, 351.53965920042504, 239.69280957264345, 231.4699633479564], \"Term\": [\"yeah\", \"oh\", \"know\", \"jerry\", \"right\", \"hey\", \"like\", \"george\", \"don\", \"think\", \"going\", \"want\", \"elaine\", \"kramer\", \"look\", \"uh\", \"gonna\", \"got\", \"yes\", \"tell\", \"did\", \"good\", \"really\", \"say\", \"ll\", \"doing\", \"hi\", \"hello\", \"alright\", \"don know\", \"okay\", \"mr\", \"dont\", \"thank\", \"phone\", \"kramer\", \"seinfeld\", \"street\", \"jerry\", \"oh god\", \"friends\", \"shirt\", \"hand\", \"ve got\", \"couple\", \"talk\", \"mail\", \"didnt\", \"dont know\", \"clothes\", \"car\", \"leo\", \"uncle\", \"bought\", \"jerry seinfeld\", \"exits\", \"ahh\", \"picks\", \"bet\", \"ll just\", \"god\", \"told\", \"making\", \"away\", \"walks\", \"gave\", \"telling\", \"apartment\", \"got\", \"really\", \"thought\", \"guys\", \"little\", \"looking\", \"just\", \"room\", \"time\", \"ve\", \"know\", \"people\", \"ll\", \"nice\", \"hey\", \"don know\", \"ha\", \"maybe\", \"happened\", \"yes\", \"love\", \"ha ha\", \"isn\", \"hey hey\", \"business\", \"somebody\", \"make\", \"read\", \"world\", \"yes yes\", \"lost\", \"guess\", \"date\", \"worry\", \"soup\", \"didn know\", \"point\", \"nah\", \"jimmy\", \"bucks\", \"sound\", \"broke\", \"don worry\", \"sir\", \"sure\", \"ah\", \"bad\", \"kidding\", \"deal\", \"end\", \"idea\", \"don like\", \"know\", \"good\", \"big\", \"won\", \"excuse\", \"don\", \"did\", \"talking\", \"hear\", \"mean\", \"ya\", \"didn\", \"just\", \"doesn\", \"like\", \"people\", \"going\", \"right\", \"huh\", \"yeah yeah\", \"course\", \"hell\", \"eat\", \"father\", \"doctor\", \"bathroom\", \"ll tell\", \"old\", \"yeah right\", \"laughing\", \"morning\", \"problem\", \"right right\", \"uh huh\", \"married\", \"yeah know\", \"ooh\", \"kid\", \"york\", \"new york\", \"chicken\", \"dad\", \"half\", \"clock\", \"right ll\", \"bedroom\", \"yeah\", \"gotta\", \"goin\", \"gonna\", \"tell\", \"need\", \"aren\", \"store\", \"said\", \"susan\", \"fine\", \"man\", \"new\", \"ll\", \"come\", \"stuff\", \"getting\", \"mind\", \"check\", \"newman\", \"uh\", \"time\", \"got\", \"doing\", \"george\", \"sorry\", \"wait\", \"boy\", \"does\", \"coffee\", \"oh yeah\", \"seen\", \"real\", \"feel\", \"minute\", \"matter\", \"wow\", \"haven\", \"house\", \"food\", \"shop\", \"work\", \"voice\", \"late\", \"paper\", \"hmm\", \"club\", \"eating\", \"wait minute\", \"dog\", \"wait second\", \"question\", \"ve seen\", \"understand\", \"look\", \"saying\", \"hot\", \"kind\", \"like\", \"money\", \"second\", \"looks\", \"went\", \"youre\", \"guy\", \"help\", \"ve\", \"oh\", \"better\", \"thing\", \"just\", \"im\", \"mean\", \"really\", \"want\", \"hi\", \"hello\", \"say\", \"stop\", \"thanks\", \"don want\", \"don think\", \"dollars\", \"book\", \"bye\", \"meet\", \"thousand\", \"shut\", \"stay\", \"sleep\", \"oh hi\", \"oh come\", \"ho\", \"did say\", \"opens\", \"oh don\", \"oh oh\", \"hope\", \"leave\", \"bag\", \"believe\", \"wrong\", \"hold\", \"alright\", \"elaine\", \"think\", \"oh\", \"uh\", \"pick\", \"great\", \"let\", \"funny\", \"door\", \"night\", \"don\", \"way\", \"come\", \"did\", \"ll\", \"didn\", \"just\"], \"Total\": [3814.0, 4180.0, 4182.0, 2880.0, 2348.0, 2378.0, 2882.0, 2154.0, 3110.0, 1864.0, 1535.0, 1417.0, 1557.0, 1523.0, 1325.0, 1797.0, 1348.0, 2069.0, 1008.0, 1087.0, 1443.0, 1322.0, 1433.0, 821.0, 1879.0, 747.0, 735.0, 657.0, 710.0, 684.0, 700.7251293178016, 505.1553564655454, 413.7590466751648, 350.86167579429974, 499.2655842457627, 1523.4505340411442, 203.44736349493903, 171.01626585893996, 2880.599891888271, 252.59564244701164, 194.60430884987161, 156.27482865604054, 288.9823545124637, 216.23947212333715, 134.65410179105055, 448.1988052722395, 122.86085562565668, 118.92983209944752, 111.06767606467871, 108.11947099764518, 550.3724309949068, 103.20559564945587, 103.20563199629962, 101.24009929405659, 97.30899180349036, 96.3264086112826, 94.36076531071676, 91.41253741737731, 89.44698644959571, 87.48140948252698, 389.2671822294466, 470.7826267234576, 171.02385474307252, 364.09901628784684, 174.09793549660836, 214.27353792569727, 124.88697929158468, 406.13702809274565, 2069.7662369458953, 1433.2396477937111, 432.23526242440283, 260.40393793194676, 926.9082537921895, 420.55807681723707, 2858.431336642155, 307.277333049984, 854.2466632935071, 1148.7283451598569, 4182.036320628824, 611.97198847754, 1879.549432208974, 491.1215020893405, 2378.359103720337, 684.7154003548205, 430.0356808353809, 610.2869598000409, 407.5064152499221, 1008.9872600110199, 392.82031202583624, 243.92355717690197, 252.74628753791933, 177.31504000796534, 198.8716377371761, 169.48122849229208, 651.4775450137249, 136.1750079222735, 137.15459058142926, 115.60419286377626, 125.400034956112, 291.0046752722967, 159.7023247274914, 101.89072849991786, 95.03398056752425, 93.07483069318126, 131.2805594652666, 92.09535511970226, 86.21814533066716, 84.2590657742779, 84.25922760925538, 83.27960928455704, 79.36133536238042, 129.3194813684009, 562.3926089939657, 615.2780301753569, 352.72625242240855, 110.70772774060674, 179.3724025830024, 131.28474650244527, 258.6488047691303, 107.79543236299419, 4182.036320628824, 1322.1966992570806, 561.8616921841647, 215.84167917081578, 267.53098438131246, 3110.015519144453, 1443.344896296476, 399.9889366267129, 308.4138137164821, 830.1153292284673, 511.8880520975657, 873.2289369357168, 2858.431336642155, 418.76670067614214, 2882.455678070782, 611.97198847754, 1535.4535701338682, 2348.762369962708, 597.3462468966061, 320.9657130166777, 284.3133255090084, 254.5945447889909, 216.9514500691056, 210.01717303634845, 183.27073070998358, 192.18707239117614, 156.5241976172285, 219.92900872656648, 137.70258900515358, 143.64690115822484, 153.55758177298108, 257.57686031158346, 113.92792861722918, 105.01242445690968, 104.02173769227541, 94.11567332857894, 90.1533009309995, 116.89765346728272, 85.20021412435594, 85.200214124356, 84.20969970822878, 81.23780851839477, 131.7683398676773, 81.2378916126372, 79.25653984635443, 80.24799239793548, 3814.1159536547575, 636.8697244562514, 115.90303850792944, 1348.1899019947964, 1087.2778357178865, 545.0213129554289, 96.09328332016058, 130.73398511178337, 625.4543916378029, 188.4441387571017, 291.0183736188322, 674.1636691970624, 429.35121947313195, 1879.549432208974, 1249.425662321872, 180.1932161957888, 456.91069876970175, 262.1654641887629, 208.71735854790938, 268.91126595870105, 1797.031098273374, 854.2466632935071, 2069.7662369458953, 747.0022429662034, 2154.42843721973, 584.2004335923364, 571.835846025206, 371.93950558522846, 409.0280760260339, 347.2100841850923, 386.35682884554444, 264.77864506877927, 219.4411903620274, 296.7059198499573, 194.7119572593113, 188.52955750207482, 167.92177591573488, 160.70878471214294, 224.5762520312872, 144.2225900774907, 133.91881982243297, 416.16672886280696, 133.91867454949875, 132.88759724789483, 126.70591668596317, 123.61487874290634, 120.52354460492464, 122.58282814026865, 114.34141334791788, 124.6404165983722, 107.12861697479788, 108.15860229875723, 105.06783119338533, 219.40319004062283, 1325.6493794334099, 186.44252058949448, 155.5191519025803, 375.5064604967217, 2882.455678070782, 329.88081956327386, 287.353317100417, 376.0574673777499, 294.6876291990327, 231.61148093069087, 890.2885421256419, 284.26803270207057, 1148.7283451598569, 4180.938639329823, 372.0078668944846, 749.447419539281, 2858.431336642155, 494.7305958765905, 830.1153292284673, 1433.2396477937111, 1417.1367276294889, 735.7775858840997, 657.1589918953513, 821.4462809957134, 333.61424789322933, 307.40781424110276, 283.21799437962596, 258.0197923413306, 210.6462008939613, 170.3300823308022, 217.69527627765405, 246.9204677924963, 150.1715028888224, 131.020861646483, 132.02842776882537, 126.9871752474268, 111.8702723126293, 106.83064226115205, 105.8226689254875, 103.80686581924999, 100.7829804409625, 98.76717455578269, 92.71966571267379, 87.67993740745129, 283.1500871524542, 110.82728835592253, 437.3298323928864, 272.99635674503236, 168.3997752117285, 710.0925853168969, 1557.2017963569144, 1864.1109448550494, 4180.938639329823, 1797.031098273374, 217.41492117944716, 523.857629548749, 976.8861925467725, 275.99687059607686, 456.83180107310017, 418.32216101764266, 3110.015519144453, 665.5146056456082, 1249.425662321872, 1443.344896296476, 1879.549432208974, 873.2289369357168, 2858.431336642155], \"loglift\": [30.0, 29.0, 28.0, 27.0, 26.0, 25.0, 24.0, 23.0, 22.0, 21.0, 20.0, 19.0, 18.0, 17.0, 16.0, 15.0, 14.0, 13.0, 12.0, 11.0, 10.0, 9.0, 8.0, 7.0, 6.0, 5.0, 4.0, 3.0, 2.0, 1.0, 1.4841, 1.4836, 1.4832, 1.4829, 1.4828, 1.4819, 1.4813, 1.4805, 1.4805, 1.4804, 1.4803, 1.48, 1.4798, 1.4794, 1.4792, 1.4791, 1.4786, 1.4783, 1.478, 1.4777, 1.4774, 1.4774, 1.4774, 1.4772, 1.4769, 1.4768, 1.4766, 1.4763, 1.4761, 1.476, 1.4751, 1.4715, 1.475, 1.4507, 1.4622, 1.4526, 1.4681, 1.4058, 1.2851, 1.2624, 1.3092, 1.3566, 1.0966, 1.2464, 0.8444, 1.2793, 0.8746, 0.4924, -0.328, 0.6599, -0.3696, 0.7415, 1.5688, 1.5685, 1.5678, 1.5678, 1.5677, 1.5673, 1.567, 1.5664, 1.5657, 1.5652, 1.5649, 1.5639, 1.5638, 1.5637, 1.5629, 1.5627, 1.5626, 1.5624, 1.5622, 1.5617, 1.5611, 1.561, 1.561, 1.5609, 1.5603, 1.56, 1.56, 1.5599, 1.5595, 1.5594, 1.5523, 1.5467, 1.5483, 1.5594, 1.5539, 1.5541, 1.5363, 1.557, 1.3908, 1.4237, 1.424, 1.5046, 1.4811, 1.1951, 1.2777, 1.4093, 1.3939, 1.1795, 1.2563, 1.0549, 0.1527, 1.0499, -0.3901, 0.5239, 1.6268, 1.6264, 1.6261, 1.625, 1.6245, 1.6242, 1.6237, 1.6236, 1.623, 1.623, 1.6223, 1.6222, 1.6216, 1.6213, 1.6213, 1.621, 1.6204, 1.6198, 1.6196, 1.6188, 1.6185, 1.6183, 1.618, 1.618, 1.6178, 1.6175, 1.6173, 1.6173, 1.6173, 1.6167, 1.5982, 1.6061, 1.6157, 1.5878, 1.5775, 1.5908, 1.6156, 1.5976, 1.5032, 1.5632, 1.5206, 1.4043, 1.4289, 1.1796, 1.1601, 1.524, 1.3009, 1.4042, 1.4173, 1.25, -0.1308, 0.3692, -0.435, 1.6799, 1.6797, 1.6796, 1.6796, 1.6788, 1.6788, 1.6787, 1.6784, 1.678, 1.6773, 1.6773, 1.6769, 1.6768, 1.6762, 1.676, 1.6755, 1.6754, 1.675, 1.675, 1.675, 1.6748, 1.6747, 1.6745, 1.6743, 1.6742, 1.674, 1.6738, 1.6735, 1.6735, 1.6734, 1.672, 1.6538, 1.6726, 1.6708, 1.6499, 1.5281, 1.6109, 1.5932, 1.4923, 1.524, 1.5616, 1.2214, 1.494, 0.9048, 0.1293, 1.2801, 0.8101, -0.2253, 0.9573, 0.5461, 0.0609, 1.6986, 1.6981, 1.698, 1.6979, 1.6968, 1.6965, 1.6964, 1.6961, 1.6952, 1.6945, 1.6942, 1.694, 1.6938, 1.6931, 1.693, 1.6921, 1.692, 1.6917, 1.6916, 1.6915, 1.6912, 1.6911, 1.6906, 1.69, 1.6869, 1.6736, 1.6717, 1.6692, 1.6688, 1.658, 1.6458, 1.6201, 1.4598, 1.4795, 1.6167, 1.5187, 1.4004, 1.5438, 1.4256, 1.4089, 0.533, 0.9538, 0.5786, 0.3226, 0.0227, 0.4064, -0.8144], \"logprob\": [30.0, 29.0, 28.0, 27.0, 26.0, 25.0, 24.0, 23.0, 22.0, 21.0, 20.0, 19.0, 18.0, 17.0, 16.0, 15.0, 14.0, 13.0, 12.0, 11.0, 10.0, 9.0, 8.0, 7.0, 6.0, 5.0, 4.0, 3.0, 2.0, 1.0, -3.9072, -4.2349, -4.4349, -4.6, -4.2475, -3.1328, -5.1467, -5.3211, -2.4972, -4.9312, -5.1921, -5.4117, -4.7972, -5.0876, -5.5615, -4.359, -5.6537, -5.6866, -5.7553, -5.7824, -4.1554, -5.8293, -5.8293, -5.8487, -5.8885, -5.8989, -5.9196, -5.9516, -5.9736, -5.996, -4.504, -4.3175, -5.3266, -4.5953, -5.3216, -5.1236, -5.6479, -4.5309, -3.0231, -3.4133, -4.5652, -5.0246, -4.0149, -4.6554, -3.141, -4.9363, -4.3185, -4.4046, -3.9328, -4.8668, -4.7742, -5.0052, -2.6004, -3.8458, -4.3117, -3.9617, -4.3656, -3.4593, -4.403, -4.8801, -4.8452, -5.2003, -5.0858, -5.2467, -3.9003, -5.4658, -5.4593, -5.6305, -5.5492, -4.7077, -5.3079, -5.7577, -5.828, -5.8489, -5.505, -5.8596, -5.9262, -5.9495, -5.9495, -5.9613, -6.0099, -5.5217, -4.0589, -3.9746, -4.5294, -5.6771, -5.2, -5.5119, -4.8516, -5.7062, -2.214, -3.3327, -4.1881, -5.0642, -4.873, -2.7059, -3.3909, -4.5426, -4.818, -4.0423, -4.4489, -4.1162, -3.8326, -4.8562, -4.3671, -5.0028, -2.98, -2.5553, -3.9248, -4.5471, -4.6688, -4.7795, -4.94, -4.9726, -5.1094, -5.0619, -5.2678, -4.9278, -5.3966, -5.3547, -5.288, -4.7711, -5.5874, -5.6695, -5.6792, -5.78, -5.8234, -5.5638, -5.8804, -5.8804, -5.8922, -5.9285, -5.445, -5.9287, -5.9534, -5.9415, -2.0987, -3.8807, -5.5749, -3.149, -3.3744, -4.0518, -5.7625, -5.4727, -4.0017, -5.1414, -4.7494, -4.0255, -4.4522, -3.225, -3.6529, -5.2253, -4.5179, -4.9702, -5.1851, -5.099, -4.5803, -4.8239, -4.7432, -3.6474, -2.5883, -3.8935, -3.9149, -4.3458, -4.2508, -4.4148, -4.3082, -4.6865, -4.875, -4.5733, -4.995, -5.0274, -5.1436, -5.1878, -4.8537, -5.2966, -5.3711, -4.2373, -5.3711, -5.379, -5.4268, -5.4517, -5.4772, -5.4604, -5.5302, -5.4441, -5.5958, -5.5862, -5.6154, -4.8805, -3.0999, -5.0426, -5.2258, -4.3652, -2.4489, -4.5337, -4.6895, -4.5213, -4.7335, -4.9367, -3.9304, -4.7994, -3.9922, -3.4758, -4.7444, -4.514, -4.2106, -4.7821, -4.6757, -4.6148, -2.9883, -3.6443, -3.7575, -3.5344, -4.4366, -4.5187, -4.6008, -4.6942, -4.898, -5.1112, -4.8661, -4.7403, -5.2377, -5.3749, -5.3674, -5.4072, -5.534, -5.5804, -5.59, -5.6093, -5.6392, -5.6595, -5.7232, -5.7797, -4.6105, -5.5618, -4.191, -4.6647, -5.1482, -3.72, -2.9469, -2.7928, -2.1453, -2.97, -4.9449, -4.1635, -3.6586, -4.7792, -4.3935, -4.4982, -3.368, -4.4891, -4.2343, -4.3461, -4.3818, -4.7648, -4.7997]}, \"token.table\": {\"Topic\": [1, 2, 4, 5, 1, 3, 5, 1, 3, 2, 3, 1, 4, 5, 2, 3, 3, 5, 3, 3, 1, 2, 4, 5, 1, 1, 4, 5, 1, 2, 4, 5, 1, 4, 2, 2, 2, 5, 1, 2, 3, 1, 3, 3, 3, 1, 4, 4, 2, 3, 4, 5, 1, 3, 3, 2, 4, 2, 4, 2, 3, 5, 5, 2, 3, 4, 5, 2, 1, 3, 4, 1, 2, 4, 4, 4, 5, 2, 4, 5, 2, 2, 4, 5, 5, 2, 1, 1, 1, 3, 5, 3, 4, 1, 5, 1, 2, 3, 2, 4, 1, 3, 4, 1, 3, 4, 1, 4, 5, 1, 2, 4, 1, 4, 1, 2, 3, 5, 1, 5, 2, 3, 3, 1, 2, 3, 4, 5, 1, 2, 3, 5, 1, 2, 3, 4, 5, 1, 3, 2, 4, 5, 2, 4, 1, 2, 3, 4, 1, 2, 3, 2, 2, 3, 1, 4, 2, 4, 1, 2, 3, 5, 3, 5, 3, 4, 5, 2, 3, 2, 5, 4, 5, 4, 5, 5, 1, 4, 4, 3, 1, 2, 1, 3, 4, 2, 1, 2, 3, 1, 2, 1, 2, 3, 4, 5, 3, 1, 2, 2, 4, 1, 2, 4, 5, 1, 2, 4, 5, 4, 3, 1, 5, 1, 1, 3, 4, 5, 1, 2, 3, 4, 1, 2, 4, 5, 1, 2, 3, 5, 1, 3, 1, 2, 3, 4, 5, 1, 4, 5, 1, 4, 2, 2, 1, 2, 3, 5, 1, 2, 1, 2, 3, 4, 3, 4, 2, 4, 1, 2, 4, 1, 5, 2, 3, 5, 4, 3, 4, 5, 3, 1, 2, 1, 2, 3, 4, 5, 1, 3, 4, 3, 3, 5, 1, 4, 5, 3, 4, 5, 1, 4, 5, 5, 5, 1, 5, 5, 5, 4, 1, 3, 5, 3, 5, 4, 1, 2, 3, 4, 5, 1, 3, 5, 1, 2, 3, 3, 5, 4, 2, 4, 1, 3, 4, 5, 1, 3, 4, 3, 3, 1, 4, 1, 2, 3, 5, 5, 1, 4, 5, 1, 3, 4, 4, 1, 1, 4, 5, 1, 2, 5, 2, 4, 2, 2, 5, 5, 2, 3, 1, 1, 2, 3, 4, 2, 3, 5, 2, 3, 4, 1, 3, 4, 1, 2, 4, 1, 2, 3, 5, 1, 4, 1, 5, 1, 2, 3, 4, 5, 1, 4, 5, 1, 2, 4, 5, 1, 2, 3, 4, 5, 1, 2, 3, 1, 2, 3, 4, 5, 3, 1, 2, 4, 5, 1, 2, 3, 4, 1, 4, 4, 4, 4, 4, 4, 1, 4, 5, 5, 1, 2, 3, 4, 5, 1, 4, 1, 2, 4, 5, 1, 4, 2, 2, 4, 2, 3, 5, 2, 3, 3, 4, 3, 3, 3, 2, 5, 2, 3, 1, 4], \"Freq\": [0.017878096503567587, 0.9767941816949199, 0.0016252815003243261, 0.0032505630006486523, 0.9961767445449514, 0.039431477780470396, 0.9590298703035836, 0.9233336880437427, 0.07386669504349942, 0.010406554604531843, 0.9886226874305251, 0.9667699835852298, 0.021972045081482497, 0.008239516905555936, 0.9780956127610373, 0.01984541822993409, 0.018046097036832548, 0.9744892399889576, 0.9938233494250852, 0.9844483038061949, 0.002286603670571516, 0.013719622023429098, 0.009146414682286065, 0.9718065599928944, 0.9950027779879695, 0.03225738235101262, 0.6693406837835119, 0.29838078674686674, 0.12280602319010471, 0.8649815546433463, 0.012458582062764246, 0.998062101971153, 0.9877509079633094, 0.9974740365808945, 0.9846347828051791, 0.9850572070470041, 0.9956170837275046, 0.9968061949274118, 0.9920555050568162, 0.0036339029489260667, 0.0036339029489260667, 0.18685556520708776, 0.8097074492307137, 0.9856346749552585, 0.984762140079413, 0.9896459815487854, 0.9956560802568426, 0.9965148357141401, 0.017608090391801515, 0.6266879443991176, 0.029613606568029822, 0.325749672248328, 0.9951423552468862, 0.9953807106766552, 0.984763147345186, 0.995602288641134, 0.006261649614095182, 0.9867738707357471, 0.011149987239951944, 0.7468762336473244, 0.0006928350961477963, 0.25219197499779783, 0.9922272403382747, 0.5977813811710952, 0.11909820621033315, 0.009161400477717935, 0.27484201433153804, 0.9884519726205637, 0.9921816748326862, 0.993066373964567, 0.9974865392223872, 0.0023879644641882857, 0.5946031515828831, 0.4035659944478203, 0.9948618865705833, 0.9986583133107825, 0.9969322926726478, 0.6874563766126001, 0.0006430836076825071, 0.3115740079221747, 0.9989551858269147, 0.9833440775398703, 0.009276830920187456, 0.9960476197113534, 0.995699445643297, 0.9954469596469051, 0.9981654862141038, 0.9903871576095915, 0.2364108622611374, 0.002188989465380902, 0.7595793444871729, 0.9956144562813362, 0.9952454340537671, 0.05137420223066825, 0.9478540311558292, 0.0076170311223579526, 0.9825970147841758, 0.0076170311223579526, 0.9157817759560926, 0.08223346559605729, 0.9966114317351974, 0.9951567149407711, 0.9976208096882115, 0.09965006552467164, 0.900286798878068, 0.9915228947362975, 0.9968946789850485, 0.14130595001229831, 0.8550821590487795, 0.9660548941502077, 0.02800159113478863, 0.004666931855798105, 0.0009283204609854582, 0.998872816020353, 0.2516903200333329, 0.0043772229571014416, 0.7222417879217379, 0.02188611478550721, 0.9890379091167995, 0.007706788902208827, 0.00862790150175041, 0.9922086727012972, 0.9990533285003587, 0.004450411615694744, 0.0007417352692824573, 0.9612889089900646, 0.007417352692824573, 0.026702469694168462, 0.0007563171202604595, 0.8644704684577051, 0.10210281123516203, 0.033277953291460216, 0.8184499146626489, 0.002898878092075498, 0.12706748970264264, 0.050247220262641966, 0.0009662926973584993, 0.020412337878204494, 0.9782220383170307, 0.0038178311953245775, 0.16034891020363226, 0.8341961161784203, 0.9931111922156546, 0.0034363709073206043, 0.18308670985568704, 0.1853331725533028, 0.001123231348807896, 0.6312560180300375, 0.8794029837592019, 0.09984488025213646, 0.019200938510026244, 0.9975916397602892, 0.9962137434055532, 0.9865799336209815, 0.993140222987635, 0.0034604188954273, 0.998757282754404, 0.995589633053274, 0.06160554149972762, 0.8397808025489186, 0.01621198460519148, 0.0810599230259574, 0.9976647386946815, 0.9982363599834363, 0.010553420205163113, 0.8302023894728315, 0.1583013030774467, 0.9990080960790796, 0.00042045795289523554, 0.9982232753186013, 0.9989431780757967, 0.9950258516680248, 0.9922259669516862, 0.023753000827767216, 0.967934783731514, 0.9922452338863839, 0.006430076217406433, 0.9902317374805908, 0.9929812167714528, 0.9994203581282967, 0.030929970881329965, 0.9665615900415614, 0.23447104538676228, 0.28096099404103414, 0.4851125076967496, 0.9970472858565436, 0.9952787987229438, 0.00034714991235540416, 0.00416579894826485, 0.9968246325672108, 0.9858713577519526, 0.5268624020086213, 0.24244066705974407, 0.0010495266972283294, 0.14868294877401333, 0.08081355568658136, 0.9923210309133027, 0.009032793106756247, 0.9936072417431873, 0.02929377030011454, 0.9693574899310631, 0.1630784497580481, 0.8361955114426601, 0.00047823592304412934, 0.00023911796152206467, 0.9964222441626076, 0.0006564046404233251, 0.0019692139212699757, 0.0013128092808466503, 0.9933206915748574, 0.9954965881407195, 0.01059508768007101, 0.9888748501399608, 0.9883185050009231, 0.11669731937023133, 0.12795758702876242, 0.013307589050991291, 0.742154004766822, 0.0003469264098691351, 0.14085212240686887, 0.0003469264098691351, 0.8582959380162404, 0.6775212082001765, 0.026971385676758615, 0.16506488034176273, 0.12838379582137102, 0.15642046703420365, 0.017557399360982044, 0.6389829282587707, 0.18727892651714179, 0.9944970081600807, 0.9966510122702535, 0.0037717363863867446, 0.005280430940941443, 0.015086945545546978, 0.9731079876877802, 0.0022630418318320467, 0.7870494427428235, 0.1830900516350375, 0.028533514540525325, 0.1701867548230653, 0.827001261718333, 0.9968099294689032, 0.9979117372479906, 0.9929932473506483, 0.9946620646554262, 0.0015349723219991146, 0.003069944643998229, 0.9881662429717016, 0.005847137532376932, 0.08306588230525196, 0.0014833193268794992, 0.7995091171880501, 0.11421558816972144, 0.9901776521432666, 0.9971911168249096, 0.9978912218598566, 0.0016385734349094526, 0.0012046518896710753, 0.6770143619951443, 0.3216420545421771, 0.004049887030184823, 0.9962722094254663, 0.03432946451527983, 0.8010208386898626, 0.16401855268411475, 0.9963435360142616, 0.06062795656467027, 0.9336705310959222, 0.003031397828233514, 0.9963689075684624, 0.997712869019881, 0.9881062935445707, 0.012843534433620305, 0.0018347906333743293, 0.9632650825215229, 0.005504371900122988, 0.014678325066994635, 0.17701125920467065, 0.8198416215795272, 0.00232909551585093, 0.9859130151644432, 0.6842405778129742, 0.3123706985667926, 0.47442435122218435, 0.20768791341056997, 0.3176403381573423, 0.014343012537045464, 0.23665970686125015, 0.7482271540158717, 0.0009567229622487772, 0.21191413613810414, 0.7871438171901814, 0.9922246815747723, 0.9922324946599602, 0.9936830167315877, 0.003958896481002341, 0.9922207008650407, 0.9922382624317916, 0.9964881458169156, 0.9989651729509008, 0.9957758699866578, 0.004546921780760995, 0.9872073355152885, 0.992231025143961, 0.9944286999026828, 0.437928540923464, 0.3513232697706894, 0.0016340617198636715, 0.16340617198636717, 0.0457537281561828, 0.9974651081794981, 0.07819150547615247, 0.9199000644253231, 0.9954870805577388, 0.9902456276048595, 0.007617274058498919, 0.9938780979406459, 0.003882336320080648, 0.9892879320356145, 0.9913713394241609, 0.9979894824608837, 0.8002848663624814, 0.0006977200229838547, 0.19815248652741474, 0.0006977200229838547, 0.0004257561398243439, 0.9988239040279108, 0.0004257561398243439, 0.9841459159232747, 0.9918551260565194, 0.8135972722704319, 0.18550017807765845, 0.052761640882537944, 0.0031976752050022995, 0.8825583565806346, 0.06075582889504369, 0.9982393480509032, 0.005363583354474061, 0.9922629205777013, 0.005363583354474061, 0.08004083694625505, 0.0034800363889676113, 0.9152495702984818, 0.9970592603169451, 0.9978010848248218, 0.9918423928728379, 0.9931389790945645, 0.9922084038094828, 0.007732786966189838, 0.9897967316722993, 0.9922261815375973, 0.997160579395293, 0.9979451682619359, 0.9850553150677462, 0.9891198857361385, 0.9922105580880953, 0.9981588079732556, 0.022947361372292495, 0.9714382980937157, 0.9940574900648445, 0.08879357579485796, 0.005549598487178622, 0.8990349549229368, 0.005549598487178622, 0.9832988399140457, 0.014224938009606447, 0.0017781172512008059, 0.021226449527071086, 0.9392703915728956, 0.0371462866723744, 0.9928629767982168, 0.0022311527568499253, 0.0022311527568499253, 0.14000387228775188, 0.8525235794664892, 0.0075002074439867086, 0.040468037289611944, 0.006438096841529173, 0.9509988763058806, 0.0009197281202184532, 0.9848905041799515, 0.01601447974276344, 0.997544115377238, 0.9986733771159672, 0.20281609628256675, 0.15344638863483667, 0.15878365432648317, 0.4189753567942497, 0.06671582114558117, 0.07510282603425528, 0.0005364487573875377, 0.9237647602213399, 0.8375068659820718, 0.020821993905631622, 0.1388132927042108, 0.9921989001489203, 0.5431686419600051, 0.15452211366103594, 0.28446116378508884, 0.017559331097844993, 0.0011706220731896662, 0.9855928695358552, 0.004248245127309721, 0.008496490254619442, 0.006121207368402826, 0.0016694201913825888, 0.1725067531095342, 0.01669420191382589, 0.8029911120550253, 0.9903590031165778, 0.9883181569360203, 0.004557818871342976, 0.9890466950814257, 0.004557818871342976, 0.3708448579639757, 0.04265586394421317, 0.12709706399704332, 0.460509225030383, 0.9942680579490585, 0.0046245025951119, 0.989836744689058, 0.9931400564365712, 0.9985383112461104, 0.9970140884398636, 0.9894648413592104, 0.9764618949390805, 0.01723168049892495, 0.00574389349964165, 0.999197870179125, 0.2539388295408709, 0.1652856286952414, 0.06761684810259876, 0.037564915612554865, 0.4748205333426935, 0.1425237975348911, 0.8551427852093466, 0.013899076450502493, 0.9358711476671678, 0.009266050967001662, 0.04169722935150748, 0.004805766202082238, 0.9947936038310231, 0.9915818305713671, 0.9912580024401477, 0.9945106826633525, 0.007326105094757436, 0.01831526273689359, 0.9707089250553602, 0.730628500640831, 0.26763664328287123, 0.9711293639226563, 0.02857805093616888, 0.9881457222891679, 0.9948977792630516, 0.9969912268584666, 0.998030440928463, 0.001982185582777484, 0.9947736076970131, 0.9859130151644439, 0.10793938150018213, 0.8894205035615007], \"Term\": [\"ah\", \"ah\", \"ah\", \"ah\", \"ahh\", \"alright\", \"alright\", \"apartment\", \"apartment\", \"aren\", \"aren\", \"away\", \"away\", \"away\", \"bad\", \"bad\", \"bag\", \"bag\", \"bathroom\", \"bedroom\", \"believe\", \"believe\", \"believe\", \"believe\", \"bet\", \"better\", \"better\", \"better\", \"big\", \"big\", \"big\", \"book\", \"bought\", \"boy\", \"broke\", \"bucks\", \"business\", \"bye\", \"car\", \"car\", \"car\", \"check\", \"check\", \"chicken\", \"clock\", \"clothes\", \"club\", \"coffee\", \"come\", \"come\", \"come\", \"come\", \"couple\", \"course\", \"dad\", \"date\", \"date\", \"deal\", \"deal\", \"did\", \"did\", \"did\", \"did say\", \"didn\", \"didn\", \"didn\", \"didn\", \"didn know\", \"didnt\", \"doctor\", \"does\", \"doesn\", \"doesn\", \"doesn\", \"dog\", \"doing\", \"dollars\", \"don\", \"don\", \"don\", \"don know\", \"don like\", \"don like\", \"don think\", \"don want\", \"don worry\", \"dont\", \"dont know\", \"door\", \"door\", \"door\", \"eat\", \"eating\", \"elaine\", \"elaine\", \"end\", \"end\", \"end\", \"excuse\", \"excuse\", \"exits\", \"father\", \"feel\", \"fine\", \"fine\", \"food\", \"friends\", \"funny\", \"funny\", \"gave\", \"gave\", \"gave\", \"george\", \"george\", \"getting\", \"getting\", \"getting\", \"getting\", \"god\", \"god\", \"goin\", \"goin\", \"going\", \"gonna\", \"gonna\", \"gonna\", \"gonna\", \"gonna\", \"good\", \"good\", \"good\", \"good\", \"got\", \"got\", \"got\", \"got\", \"got\", \"gotta\", \"gotta\", \"great\", \"great\", \"great\", \"guess\", \"guess\", \"guy\", \"guy\", \"guy\", \"guy\", \"guys\", \"guys\", \"guys\", \"ha\", \"ha ha\", \"half\", \"hand\", \"hand\", \"happened\", \"haven\", \"hear\", \"hear\", \"hear\", \"hear\", \"hell\", \"hello\", \"help\", \"help\", \"help\", \"hey\", \"hey\", \"hey hey\", \"hi\", \"hmm\", \"ho\", \"hold\", \"hold\", \"hope\", \"hot\", \"hot\", \"house\", \"huh\", \"idea\", \"idea\", \"im\", \"im\", \"im\", \"isn\", \"jerry\", \"jerry\", \"jerry\", \"jerry seinfeld\", \"jimmy\", \"just\", \"just\", \"just\", \"just\", \"just\", \"kid\", \"kidding\", \"kidding\", \"kind\", \"kind\", \"know\", \"know\", \"know\", \"know\", \"kramer\", \"kramer\", \"kramer\", \"kramer\", \"late\", \"laughing\", \"leave\", \"leave\", \"leo\", \"let\", \"let\", \"let\", \"let\", \"like\", \"like\", \"like\", \"like\", \"little\", \"little\", \"little\", \"little\", \"ll\", \"ll\", \"ll\", \"ll\", \"ll just\", \"ll tell\", \"look\", \"look\", \"look\", \"look\", \"look\", \"looking\", \"looking\", \"looking\", \"looks\", \"looks\", \"lost\", \"love\", \"mail\", \"make\", \"make\", \"make\", \"making\", \"making\", \"man\", \"man\", \"man\", \"man\", \"married\", \"matter\", \"maybe\", \"maybe\", \"mean\", \"mean\", \"mean\", \"meet\", \"meet\", \"mind\", \"mind\", \"mind\", \"minute\", \"money\", \"money\", \"money\", \"morning\", \"mr\", \"nah\", \"need\", \"need\", \"need\", \"need\", \"need\", \"new\", \"new\", \"new\", \"new york\", \"newman\", \"newman\", \"nice\", \"nice\", \"nice\", \"night\", \"night\", \"night\", \"oh\", \"oh\", \"oh\", \"oh come\", \"oh don\", \"oh god\", \"oh god\", \"oh hi\", \"oh oh\", \"oh yeah\", \"okay\", \"old\", \"old\", \"ooh\", \"opens\", \"paper\", \"people\", \"people\", \"people\", \"people\", \"people\", \"phone\", \"pick\", \"pick\", \"picks\", \"point\", \"point\", \"problem\", \"problem\", \"question\", \"read\", \"real\", \"really\", \"really\", \"really\", \"really\", \"right\", \"right\", \"right\", \"right ll\", \"right right\", \"room\", \"room\", \"said\", \"said\", \"said\", \"said\", \"say\", \"saying\", \"saying\", \"saying\", \"second\", \"second\", \"second\", \"seen\", \"seinfeld\", \"shirt\", \"shop\", \"shut\", \"sir\", \"sir\", \"sleep\", \"somebody\", \"sorry\", \"sound\", \"soup\", \"stay\", \"stop\", \"store\", \"store\", \"street\", \"stuff\", \"stuff\", \"stuff\", \"stuff\", \"sure\", \"sure\", \"sure\", \"susan\", \"susan\", \"susan\", \"talk\", \"talk\", \"talk\", \"talking\", \"talking\", \"talking\", \"tell\", \"tell\", \"tell\", \"tell\", \"telling\", \"telling\", \"thank\", \"thanks\", \"thing\", \"thing\", \"thing\", \"thing\", \"thing\", \"think\", \"think\", \"think\", \"thought\", \"thought\", \"thought\", \"thousand\", \"time\", \"time\", \"time\", \"time\", \"time\", \"told\", \"told\", \"told\", \"uh\", \"uh\", \"uh\", \"uh\", \"uh\", \"uh huh\", \"uncle\", \"understand\", \"understand\", \"understand\", \"ve\", \"ve\", \"ve\", \"ve\", \"ve got\", \"ve got\", \"ve seen\", \"voice\", \"wait\", \"wait minute\", \"wait second\", \"walks\", \"walks\", \"walks\", \"want\", \"way\", \"way\", \"way\", \"way\", \"way\", \"went\", \"went\", \"won\", \"won\", \"won\", \"won\", \"work\", \"work\", \"world\", \"worry\", \"wow\", \"wrong\", \"wrong\", \"wrong\", \"ya\", \"ya\", \"yeah\", \"yeah\", \"yeah know\", \"yeah right\", \"yeah yeah\", \"yes\", \"yes\", \"yes yes\", \"york\", \"youre\", \"youre\"]}, \"R\": 30, \"lambda.step\": 0.01, \"plot.opts\": {\"xlab\": \"PC1\", \"ylab\": \"PC2\"}, \"topic.order\": [1, 3, 4, 5, 2]};\n",
       "\n",
       "function LDAvis_load_lib(url, callback){\n",
       "  var s = document.createElement('script');\n",
       "  s.src = url;\n",
       "  s.async = true;\n",
       "  s.onreadystatechange = s.onload = callback;\n",
       "  s.onerror = function(){console.warn(\"failed to load library \" + url);};\n",
       "  document.getElementsByTagName(\"head\")[0].appendChild(s);\n",
       "}\n",
       "\n",
       "if(typeof(LDAvis) !== \"undefined\"){\n",
       "   // already loaded: just create the visualization\n",
       "   !function(LDAvis){\n",
       "       new LDAvis(\"#\" + \"ldavis_el960461406539018088484047019166\", ldavis_el960461406539018088484047019166_data);\n",
       "   }(LDAvis);\n",
       "}else if(typeof define === \"function\" && define.amd){\n",
       "   // require.js is available: use it to load d3/LDAvis\n",
       "   require.config({paths: {d3: \"https://cdnjs.cloudflare.com/ajax/libs/d3/3.5.5/d3.min\"}});\n",
       "   require([\"d3\"], function(d3){\n",
       "      window.d3 = d3;\n",
       "      LDAvis_load_lib(\"https://cdn.rawgit.com/bmabey/pyLDAvis/files/ldavis.v1.0.0.js\", function(){\n",
       "        new LDAvis(\"#\" + \"ldavis_el960461406539018088484047019166\", ldavis_el960461406539018088484047019166_data);\n",
       "      });\n",
       "    });\n",
       "}else{\n",
       "    // require.js not available: dynamically load d3 & LDAvis\n",
       "    LDAvis_load_lib(\"https://cdnjs.cloudflare.com/ajax/libs/d3/3.5.5/d3.min.js\", function(){\n",
       "         LDAvis_load_lib(\"https://cdn.rawgit.com/bmabey/pyLDAvis/files/ldavis.v1.0.0.js\", function(){\n",
       "                 new LDAvis(\"#\" + \"ldavis_el960461406539018088484047019166\", ldavis_el960461406539018088484047019166_data);\n",
       "            })\n",
       "         });\n",
       "}\n",
       "</script>"
      ],
      "text/plain": [
       "PreparedData(topic_coordinates=              x         y  topics  cluster       Freq\n",
       "topic                                                \n",
       "0      0.001389 -0.137602       1        1  22.644997\n",
       "2     -0.201284  0.206333       2        1  20.810624\n",
       "3      0.336859 -0.004208       3        1  19.642660\n",
       "4     -0.159650 -0.244626       4        1  18.618852\n",
       "1      0.022685  0.180104       5        1  18.282867, topic_info=    Category         Freq   Term        Total  loglift  logprob\n",
       "489  Default  3814.000000   yeah  3814.000000  30.0000  30.0000\n",
       "296  Default  4180.000000     oh  4180.000000  29.0000  29.0000\n",
       "220  Default  4182.000000   know  4182.000000  28.0000  28.0000\n",
       "205  Default  2880.000000  jerry  2880.000000  27.0000  27.0000\n",
       "349  Default  2348.000000  right  2348.000000  26.0000  26.0000\n",
       "..       ...          ...    ...          ...      ...      ...\n",
       "68    Topic5   407.412048   come  1249.425662   0.5786  -4.2343\n",
       "85    Topic5   364.335426    did  1443.344896   0.3226  -4.3461\n",
       "244   Topic5   351.539659     ll  1879.549432   0.0227  -4.3818\n",
       "87    Topic5   239.692810   didn   873.228937   0.4064  -4.7648\n",
       "212   Topic5   231.469963   just  2858.431337  -0.8144  -4.7997\n",
       "\n",
       "[287 rows x 6 columns], token_table=      Topic      Freq     Term\n",
       "term                          \n",
       "3         1  0.017878       ah\n",
       "3         2  0.976794       ah\n",
       "3         4  0.001625       ah\n",
       "3         5  0.003251       ah\n",
       "5         1  0.996177      ahh\n",
       "...     ...       ...      ...\n",
       "495       5  0.001982      yes\n",
       "496       2  0.994774  yes yes\n",
       "498       3  0.985913     york\n",
       "499       1  0.107939    youre\n",
       "499       4  0.889421    youre\n",
       "\n",
       "[462 rows x 3 columns], R=30, lambda_step=0.01, plot_opts={'xlab': 'PC1', 'ylab': 'PC2'}, topic_order=[1, 3, 4, 5, 2])"
      ]
     },
     "execution_count": 80,
     "metadata": {},
     "output_type": "execute_result"
    }
   ],
   "source": [
    "pyLDAvis.sklearn.prepare(lda, X, cvect)"
   ]
  },
  {
   "cell_type": "code",
   "execution_count": null,
   "metadata": {},
   "outputs": [],
   "source": []
  },
  {
   "cell_type": "code",
   "execution_count": null,
   "metadata": {},
   "outputs": [],
   "source": []
  },
  {
   "cell_type": "code",
   "execution_count": null,
   "metadata": {},
   "outputs": [],
   "source": []
  },
  {
   "cell_type": "code",
   "execution_count": null,
   "metadata": {},
   "outputs": [],
   "source": []
  },
  {
   "cell_type": "code",
   "execution_count": null,
   "metadata": {},
   "outputs": [],
   "source": []
  },
  {
   "cell_type": "code",
   "execution_count": null,
   "metadata": {},
   "outputs": [],
   "source": []
  },
  {
   "cell_type": "code",
   "execution_count": null,
   "metadata": {},
   "outputs": [],
   "source": []
  },
  {
   "cell_type": "code",
   "execution_count": 81,
   "metadata": {},
   "outputs": [],
   "source": [
    "tfidf = TfidfVectorizer()"
   ]
  }
 ],
 "metadata": {
  "kernelspec": {
   "display_name": "Python 3",
   "language": "python",
   "name": "python3"
  },
  "language_info": {
   "codemirror_mode": {
    "name": "ipython",
    "version": 3
   },
   "file_extension": ".py",
   "mimetype": "text/x-python",
   "name": "python",
   "nbconvert_exporter": "python",
   "pygments_lexer": "ipython3",
   "version": "3.7.4"
  },
  "widgets": {
   "application/vnd.jupyter.widget-state+json": {
    "state": {},
    "version_major": 2,
    "version_minor": 0
   }
  }
 },
 "nbformat": 4,
 "nbformat_minor": 4
}
